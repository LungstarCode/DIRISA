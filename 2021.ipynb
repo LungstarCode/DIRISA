{
  "nbformat": 4,
  "nbformat_minor": 0,
  "metadata": {
    "colab": {
      "provenance": []
    },
    "kernelspec": {
      "name": "python3",
      "display_name": "Python 3"
    },
    "language_info": {
      "name": "python"
    }
  },
  "cells": [
    {
      "cell_type": "code",
      "execution_count": 1,
      "metadata": {
        "colab": {
          "base_uri": "https://localhost:8080/"
        },
        "id": "TAzOvU0Sh9fu",
        "outputId": "6a3bbe8f-db80-490d-efef-9fbb597160d3"
      },
      "outputs": [
        {
          "output_type": "stream",
          "name": "stdout",
          "text": [
            "Drive already mounted at /content/drive; to attempt to forcibly remount, call drive.mount(\"/content/drive\", force_remount=True).\n"
          ]
        }
      ],
      "source": [
        "from google.colab import drive\n",
        "drive.mount('/content/drive')"
      ]
    },
    {
      "cell_type": "markdown",
      "source": [
        "# Data Understanding"
      ],
      "metadata": {
        "id": "PV_JnDX1ahrn"
      }
    },
    {
      "cell_type": "code",
      "source": [
        "file_path = '/content/drive/MyDrive/ghs-2021-person-v1.csv'\n",
        "file_path_12 = '/content/drive/MyDrive/ghs-2012-person-v2.1.csv'\n",
        "file_path_13 = '/content/drive/MyDrive/ghs-2013-person-v1.csv'\n",
        "file_path_14 = '/content/drive/MyDrive/ghs-2014-person-v1.csv'\n",
        "file_path_15 = '/content/drive/MyDrive/ghs-2015-person-v1.csv'\n",
        "file_path_16 = '/content/drive/MyDrive/ghs-2016-person-v1.csv'\n",
        "file_path_17 = '/content/drive/MyDrive/ghs-2017-person-1.0.csv'\n",
        "file_path_18 = '/content/drive/MyDrive/ghs-2018-person-v1.csv'\n",
        "file_path_19 = '/content/drive/MyDrive/ghs-2019-person-v1.csv'\n",
        "file_path_20 = '/content/drive/MyDrive/ghs-2020-person-v1.csv'\n",
        "file_path_22 = '/content/drive/MyDrive/ghs-2022-person-v1.csv'"
      ],
      "metadata": {
        "id": "xEdQdqUJiGTZ"
      },
      "execution_count": 2,
      "outputs": []
    },
    {
      "cell_type": "code",
      "source": [
        "import pandas as pd\n",
        "import numpy as np\n",
        "import matplotlib.pyplot as plt\n",
        "import sklearn\n",
        "import seaborn as sns"
      ],
      "metadata": {
        "id": "XOBk4wpZjC3g"
      },
      "execution_count": 3,
      "outputs": []
    },
    {
      "cell_type": "code",
      "source": [],
      "metadata": {
        "id": "3pm-yCgA_4z-"
      },
      "execution_count": 3,
      "outputs": []
    },
    {
      "cell_type": "code",
      "source": [
        "# the file contains fileds that are not encoded in UTF-8. In this case, we will\n",
        "# specify a different encoding, such as 'latin-1' or 'iso-8859-1', to\n",
        "# handle the file correctly.\n",
        "data_21 = pd.read_csv(file_path, encoding='latin-1')"
      ],
      "metadata": {
        "id": "qEdTTvJKjMdm"
      },
      "execution_count": 4,
      "outputs": []
    },
    {
      "cell_type": "code",
      "source": [
        "data_22 = pd.read_csv(file_path_22, encoding='latin-1')\n",
        "data_20 = pd.read_csv(file_path_20, encoding='latin-1')\n",
        "data_19 = pd.read_csv(file_path_19, encoding='latin-1')\n",
        "data_18 = pd.read_csv(file_path_18, encoding='latin-1')\n",
        "data_17 = pd.read_csv(file_path_17, encoding='latin-1')\n",
        "data_16 = pd.read_csv(file_path_16, encoding='latin-1')\n",
        "data_15 = pd.read_csv(file_path_15, encoding='latin-1')\n",
        "data_14 = pd.read_csv(file_path_14, encoding='latin-1')\n",
        "data_13 = pd.read_csv(file_path_13, encoding='latin-1')\n",
        "data_12 = pd.read_csv(file_path_12, encoding='latin-1')"
      ],
      "metadata": {
        "colab": {
          "base_uri": "https://localhost:8080/"
        },
        "id": "LGmVALcuzt_8",
        "outputId": "6ac2e0c9-de34-43b8-c9e7-6af7044d71ea"
      },
      "execution_count": 5,
      "outputs": [
        {
          "output_type": "stream",
          "name": "stderr",
          "text": [
            "<ipython-input-5-53b2d8382475>:3: DtypeWarning: Columns (137) have mixed types. Specify dtype option on import or set low_memory=False.\n",
            "  data_19 = pd.read_csv(file_path_19, encoding='latin-1')\n"
          ]
        }
      ]
    },
    {
      "cell_type": "markdown",
      "source": [
        "# Identifying common features from all datasets"
      ],
      "metadata": {
        "id": "DkNIg51S3Fug"
      }
    },
    {
      "cell_type": "code",
      "source": [
        "# Identify common features\n",
        "common_features = list(set(data_12.columns) & set(data_13.columns) & set(data_14.columns) & set(data_15.columns)& set(data_16.columns) & set(data_17.columns) & set(data_18.columns) & set(data_19.columns) & set(data_20.columns) & set(data_21.columns) & set(data_22.columns))\n"
      ],
      "metadata": {
        "id": "bC9ApLai1abb"
      },
      "execution_count": 6,
      "outputs": []
    },
    {
      "cell_type": "markdown",
      "source": [
        "## Converting the headings into Lowercase to ensure accuracy in selecting common features"
      ],
      "metadata": {
        "id": "-NrFIef16jVK"
      }
    },
    {
      "cell_type": "code",
      "source": [
        "common_features"
      ],
      "metadata": {
        "colab": {
          "base_uri": "https://localhost:8080/"
        },
        "id": "U5i5dI-_3scS",
        "outputId": "6afa646c-a2d9-4729-a47f-9ede54ccaf2e"
      },
      "execution_count": 7,
      "outputs": [
        {
          "output_type": "execute_result",
          "data": {
            "text/plain": [
              "['undisab', 'person_wgt', 'disab']"
            ]
          },
          "metadata": {},
          "execution_count": 7
        }
      ]
    },
    {
      "cell_type": "code",
      "source": [
        "data_12.columns = [col.lower() for col in data_12.columns]\n",
        "data_13.columns = [col.lower() for col in data_13.columns]\n",
        "data_14.columns = [col.lower() for col in data_14.columns]\n",
        "data_15.columns = [col.lower() for col in data_15.columns]\n",
        "data_16.columns = [col.lower() for col in data_16.columns]\n",
        "data_17.columns = [col.lower() for col in data_17.columns]\n",
        "data_18.columns = [col.lower() for col in data_18.columns]\n",
        "data_19.columns = [col.lower() for col in data_19.columns]\n",
        "data_20.columns = [col.lower() for col in data_20.columns]\n",
        "data_21.columns = [col.lower() for col in data_21.columns]\n",
        "data_22.columns = [col.lower() for col in data_22.columns]"
      ],
      "metadata": {
        "id": "tG8Yxz5M5nOQ"
      },
      "execution_count": 8,
      "outputs": []
    },
    {
      "cell_type": "code",
      "source": [
        "# Identify common features\n",
        "common_features1 = list(set(data_12.columns) & set(data_13.columns) & set(data_14.columns) & set(data_15.columns)& set(data_16.columns) & set(data_17.columns) & set(data_18.columns) & set(data_19.columns) & set(data_20.columns) & set(data_21.columns) & set(data_22.columns))\n"
      ],
      "metadata": {
        "id": "f2mp7kar6LND"
      },
      "execution_count": 9,
      "outputs": []
    },
    {
      "cell_type": "code",
      "source": [
        "common_features1"
      ],
      "metadata": {
        "colab": {
          "base_uri": "https://localhost:8080/"
        },
        "id": "MC0pfCjj6Sot",
        "outputId": "00f5fdce-76d8-44ac-ebac-54e3897e74bc"
      },
      "execution_count": 10,
      "outputs": [
        {
          "output_type": "execute_result",
          "data": {
            "text/plain": [
              "['undisab',\n",
              " 'age',\n",
              " 'metro',\n",
              " 'geotype',\n",
              " 'psu',\n",
              " 'sevdisab',\n",
              " 'prov',\n",
              " 'personnr',\n",
              " 'stratum',\n",
              " 'person_wgt',\n",
              " 'uqnr',\n",
              " 'disab']"
            ]
          },
          "metadata": {},
          "execution_count": 10
        }
      ]
    },
    {
      "cell_type": "markdown",
      "source": [
        "We realized that some other features are named differently in different datasets but representing the same thing, e.g, in other data types, gender is named sex, and so on, we need to get those to use a common feature name."
      ],
      "metadata": {
        "id": "JoXLvOC-7BJt"
      }
    },
    {
      "cell_type": "markdown",
      "source": [
        "### Renaming Common features that means the same thing to have the same feature names across all datasets"
      ],
      "metadata": {
        "id": "41huZowbB3q2"
      }
    },
    {
      "cell_type": "code",
      "source": [
        "data_20.columns"
      ],
      "metadata": {
        "colab": {
          "base_uri": "https://localhost:8080/"
        },
        "id": "wQ4DbNlqH5jH",
        "outputId": "edb58bb6-c1b6-4420-8070-80b5d6351ef1"
      },
      "execution_count": 11,
      "outputs": [
        {
          "output_type": "execute_result",
          "data": {
            "text/plain": [
              "Index(['uqnr', 'personnr', 'psu', 'prov', 'four_by_four', 'sex', 'age',\n",
              "       'age_grp1', 'population', 'hhc_relationship', 'hhc_marital', 'spouse',\n",
              "       'spouse_name', 'hhc_fath_alive', 'hhc_fath_parthh', 'hhc_fath_name',\n",
              "       'hhc_moth_alive', 'hhc_moth_parthh', 'hhc_moth_name', 'education',\n",
              "       'ecd_chldatt', 'ecd_notatt', 'ecd_notatt_rsn', 'ecd_fees', 'edu_attend',\n",
              "       'edu_edui', 'edu_ppriv', 'edu_corr', 'edu_homesch', 'edu_homesch_part',\n",
              "       'edu_homesch_smrtphone', 'edu_homesch_computer', 'edu_homesch_tablet',\n",
              "       'edu_burs', 'edu_totfees', 'edu_nofees', 'edu_grde', 'edu_food',\n",
              "       'edu_eatfood', 'hlt_medi', 'hlt_covid_postest', 'hlt_chronic_asm',\n",
              "       'hlt_chronic_dbt', 'hlt_chronic_hbp', 'hlt_chronic_strk',\n",
              "       'hlt_chronic_tb', 'dsb_see', 'dsb_hea', 'dsb_wal', 'dsb_rem', 'dsb_sel',\n",
              "       'dsb_com', 'soc_grant', 'soc_grant_oag', 'soc_grant_dis',\n",
              "       'soc_grant_csg', 'soc_grant_car', 'soc_grant_fos', 'soc_grant_wvt',\n",
              "       'soc_grant_grn', 'soc_grant_srd', 'lab_wge', 'lab_bus', 'lab_vol',\n",
              "       'lab_ret', 'lab_amount', 'lab_sto', 'lab_salper', 'lab_salc',\n",
              "       'lab_look', 'lab_start', 'lab_rnsw', 'undisab', 'disab', 'sevdisab',\n",
              "       'stratum', 'geotype', 'lab_salary', 'metro', 'rotation', 'person_wgt'],\n",
              "      dtype='object')"
            ]
          },
          "metadata": {},
          "execution_count": 11
        }
      ]
    },
    {
      "cell_type": "code",
      "source": [
        "data_13.columns"
      ],
      "metadata": {
        "colab": {
          "base_uri": "https://localhost:8080/"
        },
        "id": "t08-NSBWINaw",
        "outputId": "e6fb7deb-66af-4feb-f52f-03ebb3299873"
      },
      "execution_count": 12,
      "outputs": [
        {
          "output_type": "execute_result",
          "data": {
            "text/plain": [
              "Index(['uqnr', 'personnr', 'psu', 'prov', 'b_nights', 'gender', 'age',\n",
              "       'age_grp', 'race', 'q11relsh',\n",
              "       ...\n",
              "       'q411resp', 'undisab', 'disab', 'sevdisab', 'literacy3b', 'stratum',\n",
              "       'geotype', 'metro', 'rotation', 'person_wgt'],\n",
              "      dtype='object', length=169)"
            ]
          },
          "metadata": {},
          "execution_count": 12
        }
      ]
    },
    {
      "cell_type": "code",
      "source": [
        "common_features2 = list(set(data_12.columns) & set(data_13.columns) & set(data_14.columns) & set(data_15.columns)& set(data_16.columns) & set(data_17.columns) & set(data_18.columns) & set(data_19.columns) & set(data_20.columns) & set(data_21.columns) & set(data_22.columns))\n"
      ],
      "metadata": {
        "id": "Iqusp0BOEhk4"
      },
      "execution_count": 13,
      "outputs": []
    },
    {
      "cell_type": "code",
      "source": [
        "common_features2"
      ],
      "metadata": {
        "colab": {
          "base_uri": "https://localhost:8080/"
        },
        "id": "UKA43nIiEldG",
        "outputId": "729aff29-a1a4-4ee7-be29-1aefe1702791"
      },
      "execution_count": 14,
      "outputs": [
        {
          "output_type": "execute_result",
          "data": {
            "text/plain": [
              "['undisab',\n",
              " 'age',\n",
              " 'metro',\n",
              " 'geotype',\n",
              " 'psu',\n",
              " 'sevdisab',\n",
              " 'prov',\n",
              " 'personnr',\n",
              " 'stratum',\n",
              " 'person_wgt',\n",
              " 'uqnr',\n",
              " 'disab']"
            ]
          },
          "metadata": {},
          "execution_count": 14
        }
      ]
    },
    {
      "cell_type": "markdown",
      "source": [],
      "metadata": {
        "id": "opqvGW3r6HC7"
      }
    },
    {
      "cell_type": "code",
      "source": [
        "data_20.shape"
      ],
      "metadata": {
        "colab": {
          "base_uri": "https://localhost:8080/"
        },
        "id": "rVQhwI0s13uC",
        "outputId": "c00d75db-e7f4-40c8-e460-3741c8d85163"
      },
      "execution_count": 15,
      "outputs": [
        {
          "output_type": "execute_result",
          "data": {
            "text/plain": [
              "(34370, 81)"
            ]
          },
          "metadata": {},
          "execution_count": 15
        }
      ]
    },
    {
      "cell_type": "code",
      "source": [
        "data_19.shape"
      ],
      "metadata": {
        "colab": {
          "base_uri": "https://localhost:8080/"
        },
        "id": "5NPj8U4415WA",
        "outputId": "8b608478-eadc-43b9-aa80-77f518ecf6a0"
      },
      "execution_count": 16,
      "outputs": [
        {
          "output_type": "execute_result",
          "data": {
            "text/plain": [
              "(68986, 149)"
            ]
          },
          "metadata": {},
          "execution_count": 16
        }
      ]
    },
    {
      "cell_type": "code",
      "source": [
        "# reading the first 10 rows to see how the data is tructured\n",
        "data_21.head(10)"
      ],
      "metadata": {
        "colab": {
          "base_uri": "https://localhost:8080/",
          "height": 672
        },
        "id": "5jb4MaYBjRAa",
        "outputId": "9062bd02-41ce-49ab-a4e3-864f135e3614"
      },
      "execution_count": 17,
      "outputs": [
        {
          "output_type": "execute_result",
          "data": {
            "text/plain": [
              "                 uqnr  personnr          psu          prov four_by_four  \\\n",
              "0  160100090000003901         1  16010009000  Western Cape          Yes   \n",
              "1  160100090000003901         2  16010009000  Western Cape          Yes   \n",
              "2  160100630000010801         1  16010063000  Western Cape          Yes   \n",
              "3  160100630000010801         2  16010063000  Western Cape          Yes   \n",
              "4  160100630000010801         3  16010063000  Western Cape          Yes   \n",
              "5  160100630000010801         4  16010063000  Western Cape          Yes   \n",
              "6  160100630000010801         5  16010063000  Western Cape          Yes   \n",
              "7  160100630000018001         1  16010063000  Western Cape          Yes   \n",
              "8  160100630000018001         2  16010063000  Western Cape          Yes   \n",
              "9  160100630000021601         1  16010063000  Western Cape          Yes   \n",
              "\n",
              "      sex  age age_grp1 population  \\\n",
              "0    Male   78      75+      White   \n",
              "1  Female   75      75+      White   \n",
              "2  Female   28    25-29   Coloured   \n",
              "3    Male   40    40-44   Coloured   \n",
              "4  Female   17    15-19   Coloured   \n",
              "5  Female    9    05-09   Coloured   \n",
              "6    Male    1    00-04   Coloured   \n",
              "7  Female   54    50-54   Coloured   \n",
              "8  Female   65    65-69   Coloured   \n",
              "9    Male   68    65-69      White   \n",
              "\n",
              "                                    hhc_relationship  ...      sevdisab  \\\n",
              "0                                   Head/acting head  ...  Not disabled   \n",
              "1             Husband/wife/partner of household head  ...      Disabled   \n",
              "2                                   Head/acting head  ...  Not disabled   \n",
              "3             Husband/wife/partner of household head  ...  Not disabled   \n",
              "4  Son/daughter/stepchild/adopted child of househ...  ...  Not disabled   \n",
              "5  Son/daughter/stepchild/adopted child of househ...  ...  Not disabled   \n",
              "6  Son/daughter/stepchild/adopted child of househ...  ...  Not disabled   \n",
              "7                                   Head/acting head  ...  Not disabled   \n",
              "8  Other relative (e.g. in-laws or aunt/uncle) of...  ...  Not disabled   \n",
              "9                                   Head/acting head  ...  Not disabled   \n",
              "\n",
              "  stratum geotype      lab_salary  employ_status1           employ_status2  \\\n",
              "0   10301       3     Unspecified        Employed                 Employed   \n",
              "1   10301       3  Not applicable     Unspecified  Not economically active   \n",
              "2   10106       1            4017        Employed                 Employed   \n",
              "3   10106       1            2029        Employed                 Employed   \n",
              "4   10106       1  Not applicable     Unspecified  Not economically active   \n",
              "5   10106       1  Not applicable  Not applicable           Not applicable   \n",
              "6   10106       1  Not applicable  Not applicable           Not applicable   \n",
              "7   10106       1  Not applicable     Unspecified  Not economically active   \n",
              "8   10106       1  Not applicable     Unspecified  Not economically active   \n",
              "9   10106       1  Not applicable     Unspecified  Not economically active   \n",
              "\n",
              "       metro      metro_code   rotation   person_wgt  \n",
              "0  Non-metro  WC - Non-metro  Quarter 3  2970.762309  \n",
              "1  Non-metro  WC - Non-metro  Quarter 3  2971.535495  \n",
              "2  Non-metro  WC - Non-metro  Quarter 3  5611.998377  \n",
              "3  Non-metro  WC - Non-metro  Quarter 3  5585.705994  \n",
              "4  Non-metro  WC - Non-metro  Quarter 3  5595.212493  \n",
              "5  Non-metro  WC - Non-metro  Quarter 3  5608.131117  \n",
              "6  Non-metro  WC - Non-metro  Quarter 3  5564.675535  \n",
              "7  Non-metro  WC - Non-metro  Quarter 3   704.802081  \n",
              "8  Non-metro  WC - Non-metro  Quarter 3   664.914533  \n",
              "9  Non-metro  WC - Non-metro  Quarter 3  1302.791196  \n",
              "\n",
              "[10 rows x 90 columns]"
            ],
            "text/html": [
              "\n",
              "  <div id=\"df-8ab73af9-c94c-46d5-8f11-c43ea9b705e0\" class=\"colab-df-container\">\n",
              "    <div>\n",
              "<style scoped>\n",
              "    .dataframe tbody tr th:only-of-type {\n",
              "        vertical-align: middle;\n",
              "    }\n",
              "\n",
              "    .dataframe tbody tr th {\n",
              "        vertical-align: top;\n",
              "    }\n",
              "\n",
              "    .dataframe thead th {\n",
              "        text-align: right;\n",
              "    }\n",
              "</style>\n",
              "<table border=\"1\" class=\"dataframe\">\n",
              "  <thead>\n",
              "    <tr style=\"text-align: right;\">\n",
              "      <th></th>\n",
              "      <th>uqnr</th>\n",
              "      <th>personnr</th>\n",
              "      <th>psu</th>\n",
              "      <th>prov</th>\n",
              "      <th>four_by_four</th>\n",
              "      <th>sex</th>\n",
              "      <th>age</th>\n",
              "      <th>age_grp1</th>\n",
              "      <th>population</th>\n",
              "      <th>hhc_relationship</th>\n",
              "      <th>...</th>\n",
              "      <th>sevdisab</th>\n",
              "      <th>stratum</th>\n",
              "      <th>geotype</th>\n",
              "      <th>lab_salary</th>\n",
              "      <th>employ_status1</th>\n",
              "      <th>employ_status2</th>\n",
              "      <th>metro</th>\n",
              "      <th>metro_code</th>\n",
              "      <th>rotation</th>\n",
              "      <th>person_wgt</th>\n",
              "    </tr>\n",
              "  </thead>\n",
              "  <tbody>\n",
              "    <tr>\n",
              "      <th>0</th>\n",
              "      <td>160100090000003901</td>\n",
              "      <td>1</td>\n",
              "      <td>16010009000</td>\n",
              "      <td>Western Cape</td>\n",
              "      <td>Yes</td>\n",
              "      <td>Male</td>\n",
              "      <td>78</td>\n",
              "      <td>75+</td>\n",
              "      <td>White</td>\n",
              "      <td>Head/acting head</td>\n",
              "      <td>...</td>\n",
              "      <td>Not disabled</td>\n",
              "      <td>10301</td>\n",
              "      <td>3</td>\n",
              "      <td>Unspecified</td>\n",
              "      <td>Employed</td>\n",
              "      <td>Employed</td>\n",
              "      <td>Non-metro</td>\n",
              "      <td>WC - Non-metro</td>\n",
              "      <td>Quarter 3</td>\n",
              "      <td>2970.762309</td>\n",
              "    </tr>\n",
              "    <tr>\n",
              "      <th>1</th>\n",
              "      <td>160100090000003901</td>\n",
              "      <td>2</td>\n",
              "      <td>16010009000</td>\n",
              "      <td>Western Cape</td>\n",
              "      <td>Yes</td>\n",
              "      <td>Female</td>\n",
              "      <td>75</td>\n",
              "      <td>75+</td>\n",
              "      <td>White</td>\n",
              "      <td>Husband/wife/partner of household head</td>\n",
              "      <td>...</td>\n",
              "      <td>Disabled</td>\n",
              "      <td>10301</td>\n",
              "      <td>3</td>\n",
              "      <td>Not applicable</td>\n",
              "      <td>Unspecified</td>\n",
              "      <td>Not economically active</td>\n",
              "      <td>Non-metro</td>\n",
              "      <td>WC - Non-metro</td>\n",
              "      <td>Quarter 3</td>\n",
              "      <td>2971.535495</td>\n",
              "    </tr>\n",
              "    <tr>\n",
              "      <th>2</th>\n",
              "      <td>160100630000010801</td>\n",
              "      <td>1</td>\n",
              "      <td>16010063000</td>\n",
              "      <td>Western Cape</td>\n",
              "      <td>Yes</td>\n",
              "      <td>Female</td>\n",
              "      <td>28</td>\n",
              "      <td>25-29</td>\n",
              "      <td>Coloured</td>\n",
              "      <td>Head/acting head</td>\n",
              "      <td>...</td>\n",
              "      <td>Not disabled</td>\n",
              "      <td>10106</td>\n",
              "      <td>1</td>\n",
              "      <td>4017</td>\n",
              "      <td>Employed</td>\n",
              "      <td>Employed</td>\n",
              "      <td>Non-metro</td>\n",
              "      <td>WC - Non-metro</td>\n",
              "      <td>Quarter 3</td>\n",
              "      <td>5611.998377</td>\n",
              "    </tr>\n",
              "    <tr>\n",
              "      <th>3</th>\n",
              "      <td>160100630000010801</td>\n",
              "      <td>2</td>\n",
              "      <td>16010063000</td>\n",
              "      <td>Western Cape</td>\n",
              "      <td>Yes</td>\n",
              "      <td>Male</td>\n",
              "      <td>40</td>\n",
              "      <td>40-44</td>\n",
              "      <td>Coloured</td>\n",
              "      <td>Husband/wife/partner of household head</td>\n",
              "      <td>...</td>\n",
              "      <td>Not disabled</td>\n",
              "      <td>10106</td>\n",
              "      <td>1</td>\n",
              "      <td>2029</td>\n",
              "      <td>Employed</td>\n",
              "      <td>Employed</td>\n",
              "      <td>Non-metro</td>\n",
              "      <td>WC - Non-metro</td>\n",
              "      <td>Quarter 3</td>\n",
              "      <td>5585.705994</td>\n",
              "    </tr>\n",
              "    <tr>\n",
              "      <th>4</th>\n",
              "      <td>160100630000010801</td>\n",
              "      <td>3</td>\n",
              "      <td>16010063000</td>\n",
              "      <td>Western Cape</td>\n",
              "      <td>Yes</td>\n",
              "      <td>Female</td>\n",
              "      <td>17</td>\n",
              "      <td>15-19</td>\n",
              "      <td>Coloured</td>\n",
              "      <td>Son/daughter/stepchild/adopted child of househ...</td>\n",
              "      <td>...</td>\n",
              "      <td>Not disabled</td>\n",
              "      <td>10106</td>\n",
              "      <td>1</td>\n",
              "      <td>Not applicable</td>\n",
              "      <td>Unspecified</td>\n",
              "      <td>Not economically active</td>\n",
              "      <td>Non-metro</td>\n",
              "      <td>WC - Non-metro</td>\n",
              "      <td>Quarter 3</td>\n",
              "      <td>5595.212493</td>\n",
              "    </tr>\n",
              "    <tr>\n",
              "      <th>5</th>\n",
              "      <td>160100630000010801</td>\n",
              "      <td>4</td>\n",
              "      <td>16010063000</td>\n",
              "      <td>Western Cape</td>\n",
              "      <td>Yes</td>\n",
              "      <td>Female</td>\n",
              "      <td>9</td>\n",
              "      <td>05-09</td>\n",
              "      <td>Coloured</td>\n",
              "      <td>Son/daughter/stepchild/adopted child of househ...</td>\n",
              "      <td>...</td>\n",
              "      <td>Not disabled</td>\n",
              "      <td>10106</td>\n",
              "      <td>1</td>\n",
              "      <td>Not applicable</td>\n",
              "      <td>Not applicable</td>\n",
              "      <td>Not applicable</td>\n",
              "      <td>Non-metro</td>\n",
              "      <td>WC - Non-metro</td>\n",
              "      <td>Quarter 3</td>\n",
              "      <td>5608.131117</td>\n",
              "    </tr>\n",
              "    <tr>\n",
              "      <th>6</th>\n",
              "      <td>160100630000010801</td>\n",
              "      <td>5</td>\n",
              "      <td>16010063000</td>\n",
              "      <td>Western Cape</td>\n",
              "      <td>Yes</td>\n",
              "      <td>Male</td>\n",
              "      <td>1</td>\n",
              "      <td>00-04</td>\n",
              "      <td>Coloured</td>\n",
              "      <td>Son/daughter/stepchild/adopted child of househ...</td>\n",
              "      <td>...</td>\n",
              "      <td>Not disabled</td>\n",
              "      <td>10106</td>\n",
              "      <td>1</td>\n",
              "      <td>Not applicable</td>\n",
              "      <td>Not applicable</td>\n",
              "      <td>Not applicable</td>\n",
              "      <td>Non-metro</td>\n",
              "      <td>WC - Non-metro</td>\n",
              "      <td>Quarter 3</td>\n",
              "      <td>5564.675535</td>\n",
              "    </tr>\n",
              "    <tr>\n",
              "      <th>7</th>\n",
              "      <td>160100630000018001</td>\n",
              "      <td>1</td>\n",
              "      <td>16010063000</td>\n",
              "      <td>Western Cape</td>\n",
              "      <td>Yes</td>\n",
              "      <td>Female</td>\n",
              "      <td>54</td>\n",
              "      <td>50-54</td>\n",
              "      <td>Coloured</td>\n",
              "      <td>Head/acting head</td>\n",
              "      <td>...</td>\n",
              "      <td>Not disabled</td>\n",
              "      <td>10106</td>\n",
              "      <td>1</td>\n",
              "      <td>Not applicable</td>\n",
              "      <td>Unspecified</td>\n",
              "      <td>Not economically active</td>\n",
              "      <td>Non-metro</td>\n",
              "      <td>WC - Non-metro</td>\n",
              "      <td>Quarter 3</td>\n",
              "      <td>704.802081</td>\n",
              "    </tr>\n",
              "    <tr>\n",
              "      <th>8</th>\n",
              "      <td>160100630000018001</td>\n",
              "      <td>2</td>\n",
              "      <td>16010063000</td>\n",
              "      <td>Western Cape</td>\n",
              "      <td>Yes</td>\n",
              "      <td>Female</td>\n",
              "      <td>65</td>\n",
              "      <td>65-69</td>\n",
              "      <td>Coloured</td>\n",
              "      <td>Other relative (e.g. in-laws or aunt/uncle) of...</td>\n",
              "      <td>...</td>\n",
              "      <td>Not disabled</td>\n",
              "      <td>10106</td>\n",
              "      <td>1</td>\n",
              "      <td>Not applicable</td>\n",
              "      <td>Unspecified</td>\n",
              "      <td>Not economically active</td>\n",
              "      <td>Non-metro</td>\n",
              "      <td>WC - Non-metro</td>\n",
              "      <td>Quarter 3</td>\n",
              "      <td>664.914533</td>\n",
              "    </tr>\n",
              "    <tr>\n",
              "      <th>9</th>\n",
              "      <td>160100630000021601</td>\n",
              "      <td>1</td>\n",
              "      <td>16010063000</td>\n",
              "      <td>Western Cape</td>\n",
              "      <td>Yes</td>\n",
              "      <td>Male</td>\n",
              "      <td>68</td>\n",
              "      <td>65-69</td>\n",
              "      <td>White</td>\n",
              "      <td>Head/acting head</td>\n",
              "      <td>...</td>\n",
              "      <td>Not disabled</td>\n",
              "      <td>10106</td>\n",
              "      <td>1</td>\n",
              "      <td>Not applicable</td>\n",
              "      <td>Unspecified</td>\n",
              "      <td>Not economically active</td>\n",
              "      <td>Non-metro</td>\n",
              "      <td>WC - Non-metro</td>\n",
              "      <td>Quarter 3</td>\n",
              "      <td>1302.791196</td>\n",
              "    </tr>\n",
              "  </tbody>\n",
              "</table>\n",
              "<p>10 rows × 90 columns</p>\n",
              "</div>\n",
              "    <div class=\"colab-df-buttons\">\n",
              "\n",
              "  <div class=\"colab-df-container\">\n",
              "    <button class=\"colab-df-convert\" onclick=\"convertToInteractive('df-8ab73af9-c94c-46d5-8f11-c43ea9b705e0')\"\n",
              "            title=\"Convert this dataframe to an interactive table.\"\n",
              "            style=\"display:none;\">\n",
              "\n",
              "  <svg xmlns=\"http://www.w3.org/2000/svg\" height=\"24px\" viewBox=\"0 -960 960 960\">\n",
              "    <path d=\"M120-120v-720h720v720H120Zm60-500h600v-160H180v160Zm220 220h160v-160H400v160Zm0 220h160v-160H400v160ZM180-400h160v-160H180v160Zm440 0h160v-160H620v160ZM180-180h160v-160H180v160Zm440 0h160v-160H620v160Z\"/>\n",
              "  </svg>\n",
              "    </button>\n",
              "\n",
              "  <style>\n",
              "    .colab-df-container {\n",
              "      display:flex;\n",
              "      gap: 12px;\n",
              "    }\n",
              "\n",
              "    .colab-df-convert {\n",
              "      background-color: #E8F0FE;\n",
              "      border: none;\n",
              "      border-radius: 50%;\n",
              "      cursor: pointer;\n",
              "      display: none;\n",
              "      fill: #1967D2;\n",
              "      height: 32px;\n",
              "      padding: 0 0 0 0;\n",
              "      width: 32px;\n",
              "    }\n",
              "\n",
              "    .colab-df-convert:hover {\n",
              "      background-color: #E2EBFA;\n",
              "      box-shadow: 0px 1px 2px rgba(60, 64, 67, 0.3), 0px 1px 3px 1px rgba(60, 64, 67, 0.15);\n",
              "      fill: #174EA6;\n",
              "    }\n",
              "\n",
              "    .colab-df-buttons div {\n",
              "      margin-bottom: 4px;\n",
              "    }\n",
              "\n",
              "    [theme=dark] .colab-df-convert {\n",
              "      background-color: #3B4455;\n",
              "      fill: #D2E3FC;\n",
              "    }\n",
              "\n",
              "    [theme=dark] .colab-df-convert:hover {\n",
              "      background-color: #434B5C;\n",
              "      box-shadow: 0px 1px 3px 1px rgba(0, 0, 0, 0.15);\n",
              "      filter: drop-shadow(0px 1px 2px rgba(0, 0, 0, 0.3));\n",
              "      fill: #FFFFFF;\n",
              "    }\n",
              "  </style>\n",
              "\n",
              "    <script>\n",
              "      const buttonEl =\n",
              "        document.querySelector('#df-8ab73af9-c94c-46d5-8f11-c43ea9b705e0 button.colab-df-convert');\n",
              "      buttonEl.style.display =\n",
              "        google.colab.kernel.accessAllowed ? 'block' : 'none';\n",
              "\n",
              "      async function convertToInteractive(key) {\n",
              "        const element = document.querySelector('#df-8ab73af9-c94c-46d5-8f11-c43ea9b705e0');\n",
              "        const dataTable =\n",
              "          await google.colab.kernel.invokeFunction('convertToInteractive',\n",
              "                                                    [key], {});\n",
              "        if (!dataTable) return;\n",
              "\n",
              "        const docLinkHtml = 'Like what you see? Visit the ' +\n",
              "          '<a target=\"_blank\" href=https://colab.research.google.com/notebooks/data_table.ipynb>data table notebook</a>'\n",
              "          + ' to learn more about interactive tables.';\n",
              "        element.innerHTML = '';\n",
              "        dataTable['output_type'] = 'display_data';\n",
              "        await google.colab.output.renderOutput(dataTable, element);\n",
              "        const docLink = document.createElement('div');\n",
              "        docLink.innerHTML = docLinkHtml;\n",
              "        element.appendChild(docLink);\n",
              "      }\n",
              "    </script>\n",
              "  </div>\n",
              "\n",
              "\n",
              "<div id=\"df-79a7d583-3a21-4368-8b80-4e37bd6a1ea2\">\n",
              "  <button class=\"colab-df-quickchart\" onclick=\"quickchart('df-79a7d583-3a21-4368-8b80-4e37bd6a1ea2')\"\n",
              "            title=\"Suggest charts\"\n",
              "            style=\"display:none;\">\n",
              "\n",
              "<svg xmlns=\"http://www.w3.org/2000/svg\" height=\"24px\"viewBox=\"0 0 24 24\"\n",
              "     width=\"24px\">\n",
              "    <g>\n",
              "        <path d=\"M19 3H5c-1.1 0-2 .9-2 2v14c0 1.1.9 2 2 2h14c1.1 0 2-.9 2-2V5c0-1.1-.9-2-2-2zM9 17H7v-7h2v7zm4 0h-2V7h2v10zm4 0h-2v-4h2v4z\"/>\n",
              "    </g>\n",
              "</svg>\n",
              "  </button>\n",
              "\n",
              "<style>\n",
              "  .colab-df-quickchart {\n",
              "      --bg-color: #E8F0FE;\n",
              "      --fill-color: #1967D2;\n",
              "      --hover-bg-color: #E2EBFA;\n",
              "      --hover-fill-color: #174EA6;\n",
              "      --disabled-fill-color: #AAA;\n",
              "      --disabled-bg-color: #DDD;\n",
              "  }\n",
              "\n",
              "  [theme=dark] .colab-df-quickchart {\n",
              "      --bg-color: #3B4455;\n",
              "      --fill-color: #D2E3FC;\n",
              "      --hover-bg-color: #434B5C;\n",
              "      --hover-fill-color: #FFFFFF;\n",
              "      --disabled-bg-color: #3B4455;\n",
              "      --disabled-fill-color: #666;\n",
              "  }\n",
              "\n",
              "  .colab-df-quickchart {\n",
              "    background-color: var(--bg-color);\n",
              "    border: none;\n",
              "    border-radius: 50%;\n",
              "    cursor: pointer;\n",
              "    display: none;\n",
              "    fill: var(--fill-color);\n",
              "    height: 32px;\n",
              "    padding: 0;\n",
              "    width: 32px;\n",
              "  }\n",
              "\n",
              "  .colab-df-quickchart:hover {\n",
              "    background-color: var(--hover-bg-color);\n",
              "    box-shadow: 0 1px 2px rgba(60, 64, 67, 0.3), 0 1px 3px 1px rgba(60, 64, 67, 0.15);\n",
              "    fill: var(--button-hover-fill-color);\n",
              "  }\n",
              "\n",
              "  .colab-df-quickchart-complete:disabled,\n",
              "  .colab-df-quickchart-complete:disabled:hover {\n",
              "    background-color: var(--disabled-bg-color);\n",
              "    fill: var(--disabled-fill-color);\n",
              "    box-shadow: none;\n",
              "  }\n",
              "\n",
              "  .colab-df-spinner {\n",
              "    border: 2px solid var(--fill-color);\n",
              "    border-color: transparent;\n",
              "    border-bottom-color: var(--fill-color);\n",
              "    animation:\n",
              "      spin 1s steps(1) infinite;\n",
              "  }\n",
              "\n",
              "  @keyframes spin {\n",
              "    0% {\n",
              "      border-color: transparent;\n",
              "      border-bottom-color: var(--fill-color);\n",
              "      border-left-color: var(--fill-color);\n",
              "    }\n",
              "    20% {\n",
              "      border-color: transparent;\n",
              "      border-left-color: var(--fill-color);\n",
              "      border-top-color: var(--fill-color);\n",
              "    }\n",
              "    30% {\n",
              "      border-color: transparent;\n",
              "      border-left-color: var(--fill-color);\n",
              "      border-top-color: var(--fill-color);\n",
              "      border-right-color: var(--fill-color);\n",
              "    }\n",
              "    40% {\n",
              "      border-color: transparent;\n",
              "      border-right-color: var(--fill-color);\n",
              "      border-top-color: var(--fill-color);\n",
              "    }\n",
              "    60% {\n",
              "      border-color: transparent;\n",
              "      border-right-color: var(--fill-color);\n",
              "    }\n",
              "    80% {\n",
              "      border-color: transparent;\n",
              "      border-right-color: var(--fill-color);\n",
              "      border-bottom-color: var(--fill-color);\n",
              "    }\n",
              "    90% {\n",
              "      border-color: transparent;\n",
              "      border-bottom-color: var(--fill-color);\n",
              "    }\n",
              "  }\n",
              "</style>\n",
              "\n",
              "  <script>\n",
              "    async function quickchart(key) {\n",
              "      const quickchartButtonEl =\n",
              "        document.querySelector('#' + key + ' button');\n",
              "      quickchartButtonEl.disabled = true;  // To prevent multiple clicks.\n",
              "      quickchartButtonEl.classList.add('colab-df-spinner');\n",
              "      try {\n",
              "        const charts = await google.colab.kernel.invokeFunction(\n",
              "            'suggestCharts', [key], {});\n",
              "      } catch (error) {\n",
              "        console.error('Error during call to suggestCharts:', error);\n",
              "      }\n",
              "      quickchartButtonEl.classList.remove('colab-df-spinner');\n",
              "      quickchartButtonEl.classList.add('colab-df-quickchart-complete');\n",
              "    }\n",
              "    (() => {\n",
              "      let quickchartButtonEl =\n",
              "        document.querySelector('#df-79a7d583-3a21-4368-8b80-4e37bd6a1ea2 button');\n",
              "      quickchartButtonEl.style.display =\n",
              "        google.colab.kernel.accessAllowed ? 'block' : 'none';\n",
              "    })();\n",
              "  </script>\n",
              "</div>\n",
              "\n",
              "    </div>\n",
              "  </div>\n"
            ],
            "application/vnd.google.colaboratory.intrinsic+json": {
              "type": "dataframe",
              "variable_name": "data_21"
            }
          },
          "metadata": {},
          "execution_count": 17
        }
      ]
    },
    {
      "cell_type": "code",
      "source": [
        "# reading the last 5 to confirm if the data stucture ends as it started\n",
        "data_21.tail()"
      ],
      "metadata": {
        "colab": {
          "base_uri": "https://localhost:8080/",
          "height": 359
        },
        "id": "pZB0gRUNktHD",
        "outputId": "4f015f84-b477-40b8-e28b-50216ce0d1c6"
      },
      "execution_count": 18,
      "outputs": [
        {
          "output_type": "execute_result",
          "data": {
            "text/plain": [
              "                     uqnr  personnr          psu     prov four_by_four  \\\n",
              "35260  987106920000042001         2  98710692000  Limpopo          Yes   \n",
              "35261  987106920000042001         3  98710692000  Limpopo          Yes   \n",
              "35262  987106920000042001         4  98710692000  Limpopo          Yes   \n",
              "35263  987106920000042001         5  98710692000  Limpopo          Yes   \n",
              "35264  987106920000042001         6  98710692000  Limpopo          Yes   \n",
              "\n",
              "          sex  age age_grp1     population  \\\n",
              "35260  Female   46    45-49  African/Black   \n",
              "35261    Male   26    25-29  African/Black   \n",
              "35262    Male   23    20-24  African/Black   \n",
              "35263  Female   13    10-14  African/Black   \n",
              "35264    Male    5    05-09  African/Black   \n",
              "\n",
              "                                        hhc_relationship  ...      sevdisab  \\\n",
              "35260             Husband/wife/partner of household head  ...  Not disabled   \n",
              "35261  Son/daughter/stepchild/adopted child of househ...  ...  Not disabled   \n",
              "35262  Son/daughter/stepchild/adopted child of househ...  ...  Not disabled   \n",
              "35263  Son/daughter/stepchild/adopted child of househ...  ...  Not disabled   \n",
              "35264  Son/daughter/stepchild/adopted child of househ...  ...  Not disabled   \n",
              "\n",
              "      stratum geotype      lab_salary  employ_status1  \\\n",
              "35260   90401       2  Not applicable      Unemployed   \n",
              "35261   90401       2  Not applicable      Unemployed   \n",
              "35262   90401       2  Not applicable     Unspecified   \n",
              "35263   90401       2  Not applicable  Not applicable   \n",
              "35264   90401       2  Not applicable  Not applicable   \n",
              "\n",
              "                employ_status2      metro      metro_code   rotation  \\\n",
              "35260               Unemployed  Non-metro  LP - Non-metro  Quarter 1   \n",
              "35261               Unemployed  Non-metro  LP - Non-metro  Quarter 1   \n",
              "35262  Not economically active  Non-metro  LP - Non-metro  Quarter 1   \n",
              "35263           Not applicable  Non-metro  LP - Non-metro  Quarter 1   \n",
              "35264           Not applicable  Non-metro  LP - Non-metro  Quarter 1   \n",
              "\n",
              "        person_wgt  \n",
              "35260  1673.309771  \n",
              "35261  1682.215853  \n",
              "35262  1700.254385  \n",
              "35263  1687.239711  \n",
              "35264  1690.726965  \n",
              "\n",
              "[5 rows x 90 columns]"
            ],
            "text/html": [
              "\n",
              "  <div id=\"df-fc3ad2de-5763-4bb5-8236-83d691e45a2e\" class=\"colab-df-container\">\n",
              "    <div>\n",
              "<style scoped>\n",
              "    .dataframe tbody tr th:only-of-type {\n",
              "        vertical-align: middle;\n",
              "    }\n",
              "\n",
              "    .dataframe tbody tr th {\n",
              "        vertical-align: top;\n",
              "    }\n",
              "\n",
              "    .dataframe thead th {\n",
              "        text-align: right;\n",
              "    }\n",
              "</style>\n",
              "<table border=\"1\" class=\"dataframe\">\n",
              "  <thead>\n",
              "    <tr style=\"text-align: right;\">\n",
              "      <th></th>\n",
              "      <th>uqnr</th>\n",
              "      <th>personnr</th>\n",
              "      <th>psu</th>\n",
              "      <th>prov</th>\n",
              "      <th>four_by_four</th>\n",
              "      <th>sex</th>\n",
              "      <th>age</th>\n",
              "      <th>age_grp1</th>\n",
              "      <th>population</th>\n",
              "      <th>hhc_relationship</th>\n",
              "      <th>...</th>\n",
              "      <th>sevdisab</th>\n",
              "      <th>stratum</th>\n",
              "      <th>geotype</th>\n",
              "      <th>lab_salary</th>\n",
              "      <th>employ_status1</th>\n",
              "      <th>employ_status2</th>\n",
              "      <th>metro</th>\n",
              "      <th>metro_code</th>\n",
              "      <th>rotation</th>\n",
              "      <th>person_wgt</th>\n",
              "    </tr>\n",
              "  </thead>\n",
              "  <tbody>\n",
              "    <tr>\n",
              "      <th>35260</th>\n",
              "      <td>987106920000042001</td>\n",
              "      <td>2</td>\n",
              "      <td>98710692000</td>\n",
              "      <td>Limpopo</td>\n",
              "      <td>Yes</td>\n",
              "      <td>Female</td>\n",
              "      <td>46</td>\n",
              "      <td>45-49</td>\n",
              "      <td>African/Black</td>\n",
              "      <td>Husband/wife/partner of household head</td>\n",
              "      <td>...</td>\n",
              "      <td>Not disabled</td>\n",
              "      <td>90401</td>\n",
              "      <td>2</td>\n",
              "      <td>Not applicable</td>\n",
              "      <td>Unemployed</td>\n",
              "      <td>Unemployed</td>\n",
              "      <td>Non-metro</td>\n",
              "      <td>LP - Non-metro</td>\n",
              "      <td>Quarter 1</td>\n",
              "      <td>1673.309771</td>\n",
              "    </tr>\n",
              "    <tr>\n",
              "      <th>35261</th>\n",
              "      <td>987106920000042001</td>\n",
              "      <td>3</td>\n",
              "      <td>98710692000</td>\n",
              "      <td>Limpopo</td>\n",
              "      <td>Yes</td>\n",
              "      <td>Male</td>\n",
              "      <td>26</td>\n",
              "      <td>25-29</td>\n",
              "      <td>African/Black</td>\n",
              "      <td>Son/daughter/stepchild/adopted child of househ...</td>\n",
              "      <td>...</td>\n",
              "      <td>Not disabled</td>\n",
              "      <td>90401</td>\n",
              "      <td>2</td>\n",
              "      <td>Not applicable</td>\n",
              "      <td>Unemployed</td>\n",
              "      <td>Unemployed</td>\n",
              "      <td>Non-metro</td>\n",
              "      <td>LP - Non-metro</td>\n",
              "      <td>Quarter 1</td>\n",
              "      <td>1682.215853</td>\n",
              "    </tr>\n",
              "    <tr>\n",
              "      <th>35262</th>\n",
              "      <td>987106920000042001</td>\n",
              "      <td>4</td>\n",
              "      <td>98710692000</td>\n",
              "      <td>Limpopo</td>\n",
              "      <td>Yes</td>\n",
              "      <td>Male</td>\n",
              "      <td>23</td>\n",
              "      <td>20-24</td>\n",
              "      <td>African/Black</td>\n",
              "      <td>Son/daughter/stepchild/adopted child of househ...</td>\n",
              "      <td>...</td>\n",
              "      <td>Not disabled</td>\n",
              "      <td>90401</td>\n",
              "      <td>2</td>\n",
              "      <td>Not applicable</td>\n",
              "      <td>Unspecified</td>\n",
              "      <td>Not economically active</td>\n",
              "      <td>Non-metro</td>\n",
              "      <td>LP - Non-metro</td>\n",
              "      <td>Quarter 1</td>\n",
              "      <td>1700.254385</td>\n",
              "    </tr>\n",
              "    <tr>\n",
              "      <th>35263</th>\n",
              "      <td>987106920000042001</td>\n",
              "      <td>5</td>\n",
              "      <td>98710692000</td>\n",
              "      <td>Limpopo</td>\n",
              "      <td>Yes</td>\n",
              "      <td>Female</td>\n",
              "      <td>13</td>\n",
              "      <td>10-14</td>\n",
              "      <td>African/Black</td>\n",
              "      <td>Son/daughter/stepchild/adopted child of househ...</td>\n",
              "      <td>...</td>\n",
              "      <td>Not disabled</td>\n",
              "      <td>90401</td>\n",
              "      <td>2</td>\n",
              "      <td>Not applicable</td>\n",
              "      <td>Not applicable</td>\n",
              "      <td>Not applicable</td>\n",
              "      <td>Non-metro</td>\n",
              "      <td>LP - Non-metro</td>\n",
              "      <td>Quarter 1</td>\n",
              "      <td>1687.239711</td>\n",
              "    </tr>\n",
              "    <tr>\n",
              "      <th>35264</th>\n",
              "      <td>987106920000042001</td>\n",
              "      <td>6</td>\n",
              "      <td>98710692000</td>\n",
              "      <td>Limpopo</td>\n",
              "      <td>Yes</td>\n",
              "      <td>Male</td>\n",
              "      <td>5</td>\n",
              "      <td>05-09</td>\n",
              "      <td>African/Black</td>\n",
              "      <td>Son/daughter/stepchild/adopted child of househ...</td>\n",
              "      <td>...</td>\n",
              "      <td>Not disabled</td>\n",
              "      <td>90401</td>\n",
              "      <td>2</td>\n",
              "      <td>Not applicable</td>\n",
              "      <td>Not applicable</td>\n",
              "      <td>Not applicable</td>\n",
              "      <td>Non-metro</td>\n",
              "      <td>LP - Non-metro</td>\n",
              "      <td>Quarter 1</td>\n",
              "      <td>1690.726965</td>\n",
              "    </tr>\n",
              "  </tbody>\n",
              "</table>\n",
              "<p>5 rows × 90 columns</p>\n",
              "</div>\n",
              "    <div class=\"colab-df-buttons\">\n",
              "\n",
              "  <div class=\"colab-df-container\">\n",
              "    <button class=\"colab-df-convert\" onclick=\"convertToInteractive('df-fc3ad2de-5763-4bb5-8236-83d691e45a2e')\"\n",
              "            title=\"Convert this dataframe to an interactive table.\"\n",
              "            style=\"display:none;\">\n",
              "\n",
              "  <svg xmlns=\"http://www.w3.org/2000/svg\" height=\"24px\" viewBox=\"0 -960 960 960\">\n",
              "    <path d=\"M120-120v-720h720v720H120Zm60-500h600v-160H180v160Zm220 220h160v-160H400v160Zm0 220h160v-160H400v160ZM180-400h160v-160H180v160Zm440 0h160v-160H620v160ZM180-180h160v-160H180v160Zm440 0h160v-160H620v160Z\"/>\n",
              "  </svg>\n",
              "    </button>\n",
              "\n",
              "  <style>\n",
              "    .colab-df-container {\n",
              "      display:flex;\n",
              "      gap: 12px;\n",
              "    }\n",
              "\n",
              "    .colab-df-convert {\n",
              "      background-color: #E8F0FE;\n",
              "      border: none;\n",
              "      border-radius: 50%;\n",
              "      cursor: pointer;\n",
              "      display: none;\n",
              "      fill: #1967D2;\n",
              "      height: 32px;\n",
              "      padding: 0 0 0 0;\n",
              "      width: 32px;\n",
              "    }\n",
              "\n",
              "    .colab-df-convert:hover {\n",
              "      background-color: #E2EBFA;\n",
              "      box-shadow: 0px 1px 2px rgba(60, 64, 67, 0.3), 0px 1px 3px 1px rgba(60, 64, 67, 0.15);\n",
              "      fill: #174EA6;\n",
              "    }\n",
              "\n",
              "    .colab-df-buttons div {\n",
              "      margin-bottom: 4px;\n",
              "    }\n",
              "\n",
              "    [theme=dark] .colab-df-convert {\n",
              "      background-color: #3B4455;\n",
              "      fill: #D2E3FC;\n",
              "    }\n",
              "\n",
              "    [theme=dark] .colab-df-convert:hover {\n",
              "      background-color: #434B5C;\n",
              "      box-shadow: 0px 1px 3px 1px rgba(0, 0, 0, 0.15);\n",
              "      filter: drop-shadow(0px 1px 2px rgba(0, 0, 0, 0.3));\n",
              "      fill: #FFFFFF;\n",
              "    }\n",
              "  </style>\n",
              "\n",
              "    <script>\n",
              "      const buttonEl =\n",
              "        document.querySelector('#df-fc3ad2de-5763-4bb5-8236-83d691e45a2e button.colab-df-convert');\n",
              "      buttonEl.style.display =\n",
              "        google.colab.kernel.accessAllowed ? 'block' : 'none';\n",
              "\n",
              "      async function convertToInteractive(key) {\n",
              "        const element = document.querySelector('#df-fc3ad2de-5763-4bb5-8236-83d691e45a2e');\n",
              "        const dataTable =\n",
              "          await google.colab.kernel.invokeFunction('convertToInteractive',\n",
              "                                                    [key], {});\n",
              "        if (!dataTable) return;\n",
              "\n",
              "        const docLinkHtml = 'Like what you see? Visit the ' +\n",
              "          '<a target=\"_blank\" href=https://colab.research.google.com/notebooks/data_table.ipynb>data table notebook</a>'\n",
              "          + ' to learn more about interactive tables.';\n",
              "        element.innerHTML = '';\n",
              "        dataTable['output_type'] = 'display_data';\n",
              "        await google.colab.output.renderOutput(dataTable, element);\n",
              "        const docLink = document.createElement('div');\n",
              "        docLink.innerHTML = docLinkHtml;\n",
              "        element.appendChild(docLink);\n",
              "      }\n",
              "    </script>\n",
              "  </div>\n",
              "\n",
              "\n",
              "<div id=\"df-b301b0e7-3669-46e2-9c8e-ce0ddf0c5a85\">\n",
              "  <button class=\"colab-df-quickchart\" onclick=\"quickchart('df-b301b0e7-3669-46e2-9c8e-ce0ddf0c5a85')\"\n",
              "            title=\"Suggest charts\"\n",
              "            style=\"display:none;\">\n",
              "\n",
              "<svg xmlns=\"http://www.w3.org/2000/svg\" height=\"24px\"viewBox=\"0 0 24 24\"\n",
              "     width=\"24px\">\n",
              "    <g>\n",
              "        <path d=\"M19 3H5c-1.1 0-2 .9-2 2v14c0 1.1.9 2 2 2h14c1.1 0 2-.9 2-2V5c0-1.1-.9-2-2-2zM9 17H7v-7h2v7zm4 0h-2V7h2v10zm4 0h-2v-4h2v4z\"/>\n",
              "    </g>\n",
              "</svg>\n",
              "  </button>\n",
              "\n",
              "<style>\n",
              "  .colab-df-quickchart {\n",
              "      --bg-color: #E8F0FE;\n",
              "      --fill-color: #1967D2;\n",
              "      --hover-bg-color: #E2EBFA;\n",
              "      --hover-fill-color: #174EA6;\n",
              "      --disabled-fill-color: #AAA;\n",
              "      --disabled-bg-color: #DDD;\n",
              "  }\n",
              "\n",
              "  [theme=dark] .colab-df-quickchart {\n",
              "      --bg-color: #3B4455;\n",
              "      --fill-color: #D2E3FC;\n",
              "      --hover-bg-color: #434B5C;\n",
              "      --hover-fill-color: #FFFFFF;\n",
              "      --disabled-bg-color: #3B4455;\n",
              "      --disabled-fill-color: #666;\n",
              "  }\n",
              "\n",
              "  .colab-df-quickchart {\n",
              "    background-color: var(--bg-color);\n",
              "    border: none;\n",
              "    border-radius: 50%;\n",
              "    cursor: pointer;\n",
              "    display: none;\n",
              "    fill: var(--fill-color);\n",
              "    height: 32px;\n",
              "    padding: 0;\n",
              "    width: 32px;\n",
              "  }\n",
              "\n",
              "  .colab-df-quickchart:hover {\n",
              "    background-color: var(--hover-bg-color);\n",
              "    box-shadow: 0 1px 2px rgba(60, 64, 67, 0.3), 0 1px 3px 1px rgba(60, 64, 67, 0.15);\n",
              "    fill: var(--button-hover-fill-color);\n",
              "  }\n",
              "\n",
              "  .colab-df-quickchart-complete:disabled,\n",
              "  .colab-df-quickchart-complete:disabled:hover {\n",
              "    background-color: var(--disabled-bg-color);\n",
              "    fill: var(--disabled-fill-color);\n",
              "    box-shadow: none;\n",
              "  }\n",
              "\n",
              "  .colab-df-spinner {\n",
              "    border: 2px solid var(--fill-color);\n",
              "    border-color: transparent;\n",
              "    border-bottom-color: var(--fill-color);\n",
              "    animation:\n",
              "      spin 1s steps(1) infinite;\n",
              "  }\n",
              "\n",
              "  @keyframes spin {\n",
              "    0% {\n",
              "      border-color: transparent;\n",
              "      border-bottom-color: var(--fill-color);\n",
              "      border-left-color: var(--fill-color);\n",
              "    }\n",
              "    20% {\n",
              "      border-color: transparent;\n",
              "      border-left-color: var(--fill-color);\n",
              "      border-top-color: var(--fill-color);\n",
              "    }\n",
              "    30% {\n",
              "      border-color: transparent;\n",
              "      border-left-color: var(--fill-color);\n",
              "      border-top-color: var(--fill-color);\n",
              "      border-right-color: var(--fill-color);\n",
              "    }\n",
              "    40% {\n",
              "      border-color: transparent;\n",
              "      border-right-color: var(--fill-color);\n",
              "      border-top-color: var(--fill-color);\n",
              "    }\n",
              "    60% {\n",
              "      border-color: transparent;\n",
              "      border-right-color: var(--fill-color);\n",
              "    }\n",
              "    80% {\n",
              "      border-color: transparent;\n",
              "      border-right-color: var(--fill-color);\n",
              "      border-bottom-color: var(--fill-color);\n",
              "    }\n",
              "    90% {\n",
              "      border-color: transparent;\n",
              "      border-bottom-color: var(--fill-color);\n",
              "    }\n",
              "  }\n",
              "</style>\n",
              "\n",
              "  <script>\n",
              "    async function quickchart(key) {\n",
              "      const quickchartButtonEl =\n",
              "        document.querySelector('#' + key + ' button');\n",
              "      quickchartButtonEl.disabled = true;  // To prevent multiple clicks.\n",
              "      quickchartButtonEl.classList.add('colab-df-spinner');\n",
              "      try {\n",
              "        const charts = await google.colab.kernel.invokeFunction(\n",
              "            'suggestCharts', [key], {});\n",
              "      } catch (error) {\n",
              "        console.error('Error during call to suggestCharts:', error);\n",
              "      }\n",
              "      quickchartButtonEl.classList.remove('colab-df-spinner');\n",
              "      quickchartButtonEl.classList.add('colab-df-quickchart-complete');\n",
              "    }\n",
              "    (() => {\n",
              "      let quickchartButtonEl =\n",
              "        document.querySelector('#df-b301b0e7-3669-46e2-9c8e-ce0ddf0c5a85 button');\n",
              "      quickchartButtonEl.style.display =\n",
              "        google.colab.kernel.accessAllowed ? 'block' : 'none';\n",
              "    })();\n",
              "  </script>\n",
              "</div>\n",
              "\n",
              "    </div>\n",
              "  </div>\n"
            ],
            "application/vnd.google.colaboratory.intrinsic+json": {
              "type": "dataframe"
            }
          },
          "metadata": {},
          "execution_count": 18
        }
      ]
    },
    {
      "cell_type": "code",
      "source": [
        "# looking onto the columns available in the dataset\n",
        "data_21.columns"
      ],
      "metadata": {
        "colab": {
          "base_uri": "https://localhost:8080/"
        },
        "id": "35okEJpyk31B",
        "outputId": "5eda523d-bffd-4be2-da39-280324f52309"
      },
      "execution_count": 19,
      "outputs": [
        {
          "output_type": "execute_result",
          "data": {
            "text/plain": [
              "Index(['uqnr', 'personnr', 'psu', 'prov', 'four_by_four', 'sex', 'age',\n",
              "       'age_grp1', 'population', 'hhc_relationship', 'hhc_marital', 'spouse',\n",
              "       'spouse_name', 'hhc_fath_alive', 'hhc_fath_parthh', 'hhc_fath_name',\n",
              "       'hhc_moth_alive', 'hhc_moth_parthh', 'hhc_moth_name', 'education',\n",
              "       'ecd_chldatt', 'ecd_notatt', 'ecd_notatt_rsn', 'ecd_fees', 'edu_attend',\n",
              "       'edu_rsnn', 'edu_edui', 'edu_ppriv', 'edu_corr', 'edu_homesch',\n",
              "       'edu_attfreq', 'edu_homesch_part', 'edu_homesch_smrtphone',\n",
              "       'edu_homesch_computer', 'edu_homesch_tablet', 'edu_homesch_printed',\n",
              "       'edu_burs', 'edu_totfees', 'edu_nofees', 'edu_grde', 'edu_same',\n",
              "       'edu_food', 'edu_eatfood', 'hlt_medi', 'hlt_covid_postest',\n",
              "       'hlt_chronic_asm', 'hlt_chronic_dbt', 'hlt_chronic_hbp',\n",
              "       'hlt_chronic_strk', 'hlt_preg', 'hlt_chronic_tb', 'dsb_see', 'dsb_hea',\n",
              "       'dsb_wal', 'dsb_rem', 'dsb_sel', 'dsb_com', 'soc_grant',\n",
              "       'soc_grant_oag', 'soc_grant_dis', 'soc_grant_csg', 'soc_grant_car',\n",
              "       'soc_grant_fos', 'soc_grant_wvt', 'soc_grant_grn', 'soc_grant_srd',\n",
              "       'lab_wge', 'lab_bus', 'lab_vol', 'lab_ret', 'lab_amount', 'lab_sto',\n",
              "       'lab_salper', 'lab_salc', 'lab_look', 'lab_start', 'lab_rnsw',\n",
              "       'lab_accjob', 'undisab', 'disab', 'sevdisab', 'stratum', 'geotype',\n",
              "       'lab_salary', 'employ_status1', 'employ_status2', 'metro', 'metro_code',\n",
              "       'rotation', 'person_wgt'],\n",
              "      dtype='object')"
            ]
          },
          "metadata": {},
          "execution_count": 19
        }
      ]
    },
    {
      "cell_type": "markdown",
      "source": [
        "Lets check if employ_Status1 and employ_Status2 are corelated"
      ],
      "metadata": {
        "id": "-AdfYJ8ynIbo"
      }
    },
    {
      "cell_type": "code",
      "source": [
        "unique_status1 = data_21['employ_status1'].unique()\n",
        "unique_status2 = data_21['employ_status2'].unique()\n",
        "\n",
        "unique_status1"
      ],
      "metadata": {
        "colab": {
          "base_uri": "https://localhost:8080/"
        },
        "id": "bUSP6c0yocdD",
        "outputId": "32f8fc29-43e2-4ec7-d20e-02291184ba7e"
      },
      "execution_count": 20,
      "outputs": [
        {
          "output_type": "execute_result",
          "data": {
            "text/plain": [
              "array(['Employed', 'Unspecified', 'Not applicable', 'Unemployed'],\n",
              "      dtype=object)"
            ]
          },
          "metadata": {},
          "execution_count": 20
        }
      ]
    },
    {
      "cell_type": "code",
      "source": [
        "unique_status2"
      ],
      "metadata": {
        "colab": {
          "base_uri": "https://localhost:8080/"
        },
        "id": "8xH3CMWqokYA",
        "outputId": "6d1ffcb7-3b1b-4bce-dbd6-9153f9da0616"
      },
      "execution_count": 21,
      "outputs": [
        {
          "output_type": "execute_result",
          "data": {
            "text/plain": [
              "array(['Employed', 'Not economically active', 'Not applicable',\n",
              "       'Unemployed'], dtype=object)"
            ]
          },
          "metadata": {},
          "execution_count": 21
        }
      ]
    },
    {
      "cell_type": "markdown",
      "source": [
        "### Corerrelation finding"
      ],
      "metadata": {
        "id": "XNjjkOTYrrFL"
      }
    },
    {
      "cell_type": "code",
      "source": [
        "# Calculate correlation between employ_Status1 and employ_Status2\n",
        "correlation = data_21['employ_status1'].astype('category').cat.codes.corr(data_21['employ_status2'].astype('category').cat.codes)\n",
        "print(\"Correlation between employ_status1 and employ_status2:\", correlation)\n"
      ],
      "metadata": {
        "colab": {
          "base_uri": "https://localhost:8080/"
        },
        "id": "iqTKwGjcqVc5",
        "outputId": "18a59d6d-4b89-4a74-fa74-78b1cd06904f"
      },
      "execution_count": 22,
      "outputs": [
        {
          "output_type": "stream",
          "name": "stdout",
          "text": [
            "Correlation between employ_status1 and employ_status2: 0.8232810846458958\n"
          ]
        }
      ]
    },
    {
      "cell_type": "markdown",
      "source": [
        "The correlation between employ_Status1 and employ_Status2 is 0.823, which is **strong**. This suggests that these two variables are closely related and convey similar information about employment status."
      ],
      "metadata": {
        "id": "cRDbwa4ArwD-"
      }
    },
    {
      "cell_type": "markdown",
      "source": [
        "### Cross Tabulation findings"
      ],
      "metadata": {
        "id": "cKrxChoaryBh"
      }
    },
    {
      "cell_type": "code",
      "source": [
        "cross_tab = pd.crosstab(data_21['employ_status1'], data_21['employ_status2'])\n",
        "print(\"\\nCross-tabulation of employ_Status1 and employ_Status2:\")\n",
        "print(cross_tab)"
      ],
      "metadata": {
        "colab": {
          "base_uri": "https://localhost:8080/"
        },
        "id": "ZulYvVTsqeB4",
        "outputId": "0b00f267-fb03-4208-bc89-bc3790e8e098"
      },
      "execution_count": 23,
      "outputs": [
        {
          "output_type": "stream",
          "name": "stdout",
          "text": [
            "\n",
            "Cross-tabulation of employ_Status1 and employ_Status2:\n",
            "employ_status2  Employed  Not applicable  Not economically active  Unemployed\n",
            "employ_status1                                                               \n",
            "Employed            8022               0                        0           0\n",
            "Not applicable         0           10374                        0           0\n",
            "Unemployed             0               0                        0        5049\n",
            "Unspecified            0               0                    11820           0\n"
          ]
        }
      ]
    },
    {
      "cell_type": "markdown",
      "source": [
        "The cross-tabulation shows a clear alignment between the categories:\n",
        "Employed in employ_Status1 corresponds directly to Employed in employ_Status2.\n",
        "Not applicable in employ_Status1 corresponds directly to Not applicable in employ_Status2.\n",
        "Unemployed in employ_Status1 corresponds directly to Unemployed in employ_Status2.\n",
        "Unspecified in employ_Status1 corresponds directly to Not economically active in employ_Status2."
      ],
      "metadata": {
        "id": "WlHY48obr41o"
      }
    },
    {
      "cell_type": "code",
      "source": [
        "#checking the shape of the data\n",
        "data_21.shape\n"
      ],
      "metadata": {
        "colab": {
          "base_uri": "https://localhost:8080/"
        },
        "id": "2lx2BVXulTi7",
        "outputId": "0f762792-3b42-420b-d9cb-c9c87ad6364c"
      },
      "execution_count": 24,
      "outputs": [
        {
          "output_type": "execute_result",
          "data": {
            "text/plain": [
              "(35265, 90)"
            ]
          },
          "metadata": {},
          "execution_count": 24
        }
      ]
    },
    {
      "cell_type": "code",
      "source": [
        "# checking statistcal information of the numeric columns\n",
        "data_21.describe()"
      ],
      "metadata": {
        "colab": {
          "base_uri": "https://localhost:8080/",
          "height": 320
        },
        "id": "vLF9EjGjlfOB",
        "outputId": "43210b7d-febb-4d33-9b0f-77886df94bb8"
      },
      "execution_count": 25,
      "outputs": [
        {
          "output_type": "execute_result",
          "data": {
            "text/plain": [
              "               uqnr      personnr           psu           age       stratum  \\\n",
              "count  3.526500e+04  35265.000000  3.526500e+04  35265.000000  35265.000000   \n",
              "mean   6.146736e+17      3.108464  6.146736e+10     30.121282  55201.883737   \n",
              "std    2.523552e+17      2.244827  2.523552e+10     20.921724  25960.285603   \n",
              "min    1.601001e+17      1.000000  1.601001e+10      0.000000  10101.000000   \n",
              "25%    3.791012e+17      1.000000  3.791012e+10     12.000000  30103.000000   \n",
              "50%    5.991295e+17      3.000000  5.991295e+10     27.000000  55106.000000   \n",
              "75%    7.991358e+17      4.000000  7.991358e+10     45.000000  78107.000000   \n",
              "max    9.871069e+17     24.000000  9.871069e+10    116.000000  90401.000000   \n",
              "\n",
              "            geotype    person_wgt  \n",
              "count  35265.000000  35265.000000  \n",
              "mean       1.492301   1715.085494  \n",
              "std        0.555612   1369.295442  \n",
              "min        1.000000      1.000000  \n",
              "25%        1.000000    902.581950  \n",
              "50%        1.000000   1366.191206  \n",
              "75%        2.000000   2092.898570  \n",
              "max        3.000000  16663.472312  "
            ],
            "text/html": [
              "\n",
              "  <div id=\"df-dd9873c3-98fe-4916-acd1-dd7c636f9b3a\" class=\"colab-df-container\">\n",
              "    <div>\n",
              "<style scoped>\n",
              "    .dataframe tbody tr th:only-of-type {\n",
              "        vertical-align: middle;\n",
              "    }\n",
              "\n",
              "    .dataframe tbody tr th {\n",
              "        vertical-align: top;\n",
              "    }\n",
              "\n",
              "    .dataframe thead th {\n",
              "        text-align: right;\n",
              "    }\n",
              "</style>\n",
              "<table border=\"1\" class=\"dataframe\">\n",
              "  <thead>\n",
              "    <tr style=\"text-align: right;\">\n",
              "      <th></th>\n",
              "      <th>uqnr</th>\n",
              "      <th>personnr</th>\n",
              "      <th>psu</th>\n",
              "      <th>age</th>\n",
              "      <th>stratum</th>\n",
              "      <th>geotype</th>\n",
              "      <th>person_wgt</th>\n",
              "    </tr>\n",
              "  </thead>\n",
              "  <tbody>\n",
              "    <tr>\n",
              "      <th>count</th>\n",
              "      <td>3.526500e+04</td>\n",
              "      <td>35265.000000</td>\n",
              "      <td>3.526500e+04</td>\n",
              "      <td>35265.000000</td>\n",
              "      <td>35265.000000</td>\n",
              "      <td>35265.000000</td>\n",
              "      <td>35265.000000</td>\n",
              "    </tr>\n",
              "    <tr>\n",
              "      <th>mean</th>\n",
              "      <td>6.146736e+17</td>\n",
              "      <td>3.108464</td>\n",
              "      <td>6.146736e+10</td>\n",
              "      <td>30.121282</td>\n",
              "      <td>55201.883737</td>\n",
              "      <td>1.492301</td>\n",
              "      <td>1715.085494</td>\n",
              "    </tr>\n",
              "    <tr>\n",
              "      <th>std</th>\n",
              "      <td>2.523552e+17</td>\n",
              "      <td>2.244827</td>\n",
              "      <td>2.523552e+10</td>\n",
              "      <td>20.921724</td>\n",
              "      <td>25960.285603</td>\n",
              "      <td>0.555612</td>\n",
              "      <td>1369.295442</td>\n",
              "    </tr>\n",
              "    <tr>\n",
              "      <th>min</th>\n",
              "      <td>1.601001e+17</td>\n",
              "      <td>1.000000</td>\n",
              "      <td>1.601001e+10</td>\n",
              "      <td>0.000000</td>\n",
              "      <td>10101.000000</td>\n",
              "      <td>1.000000</td>\n",
              "      <td>1.000000</td>\n",
              "    </tr>\n",
              "    <tr>\n",
              "      <th>25%</th>\n",
              "      <td>3.791012e+17</td>\n",
              "      <td>1.000000</td>\n",
              "      <td>3.791012e+10</td>\n",
              "      <td>12.000000</td>\n",
              "      <td>30103.000000</td>\n",
              "      <td>1.000000</td>\n",
              "      <td>902.581950</td>\n",
              "    </tr>\n",
              "    <tr>\n",
              "      <th>50%</th>\n",
              "      <td>5.991295e+17</td>\n",
              "      <td>3.000000</td>\n",
              "      <td>5.991295e+10</td>\n",
              "      <td>27.000000</td>\n",
              "      <td>55106.000000</td>\n",
              "      <td>1.000000</td>\n",
              "      <td>1366.191206</td>\n",
              "    </tr>\n",
              "    <tr>\n",
              "      <th>75%</th>\n",
              "      <td>7.991358e+17</td>\n",
              "      <td>4.000000</td>\n",
              "      <td>7.991358e+10</td>\n",
              "      <td>45.000000</td>\n",
              "      <td>78107.000000</td>\n",
              "      <td>2.000000</td>\n",
              "      <td>2092.898570</td>\n",
              "    </tr>\n",
              "    <tr>\n",
              "      <th>max</th>\n",
              "      <td>9.871069e+17</td>\n",
              "      <td>24.000000</td>\n",
              "      <td>9.871069e+10</td>\n",
              "      <td>116.000000</td>\n",
              "      <td>90401.000000</td>\n",
              "      <td>3.000000</td>\n",
              "      <td>16663.472312</td>\n",
              "    </tr>\n",
              "  </tbody>\n",
              "</table>\n",
              "</div>\n",
              "    <div class=\"colab-df-buttons\">\n",
              "\n",
              "  <div class=\"colab-df-container\">\n",
              "    <button class=\"colab-df-convert\" onclick=\"convertToInteractive('df-dd9873c3-98fe-4916-acd1-dd7c636f9b3a')\"\n",
              "            title=\"Convert this dataframe to an interactive table.\"\n",
              "            style=\"display:none;\">\n",
              "\n",
              "  <svg xmlns=\"http://www.w3.org/2000/svg\" height=\"24px\" viewBox=\"0 -960 960 960\">\n",
              "    <path d=\"M120-120v-720h720v720H120Zm60-500h600v-160H180v160Zm220 220h160v-160H400v160Zm0 220h160v-160H400v160ZM180-400h160v-160H180v160Zm440 0h160v-160H620v160ZM180-180h160v-160H180v160Zm440 0h160v-160H620v160Z\"/>\n",
              "  </svg>\n",
              "    </button>\n",
              "\n",
              "  <style>\n",
              "    .colab-df-container {\n",
              "      display:flex;\n",
              "      gap: 12px;\n",
              "    }\n",
              "\n",
              "    .colab-df-convert {\n",
              "      background-color: #E8F0FE;\n",
              "      border: none;\n",
              "      border-radius: 50%;\n",
              "      cursor: pointer;\n",
              "      display: none;\n",
              "      fill: #1967D2;\n",
              "      height: 32px;\n",
              "      padding: 0 0 0 0;\n",
              "      width: 32px;\n",
              "    }\n",
              "\n",
              "    .colab-df-convert:hover {\n",
              "      background-color: #E2EBFA;\n",
              "      box-shadow: 0px 1px 2px rgba(60, 64, 67, 0.3), 0px 1px 3px 1px rgba(60, 64, 67, 0.15);\n",
              "      fill: #174EA6;\n",
              "    }\n",
              "\n",
              "    .colab-df-buttons div {\n",
              "      margin-bottom: 4px;\n",
              "    }\n",
              "\n",
              "    [theme=dark] .colab-df-convert {\n",
              "      background-color: #3B4455;\n",
              "      fill: #D2E3FC;\n",
              "    }\n",
              "\n",
              "    [theme=dark] .colab-df-convert:hover {\n",
              "      background-color: #434B5C;\n",
              "      box-shadow: 0px 1px 3px 1px rgba(0, 0, 0, 0.15);\n",
              "      filter: drop-shadow(0px 1px 2px rgba(0, 0, 0, 0.3));\n",
              "      fill: #FFFFFF;\n",
              "    }\n",
              "  </style>\n",
              "\n",
              "    <script>\n",
              "      const buttonEl =\n",
              "        document.querySelector('#df-dd9873c3-98fe-4916-acd1-dd7c636f9b3a button.colab-df-convert');\n",
              "      buttonEl.style.display =\n",
              "        google.colab.kernel.accessAllowed ? 'block' : 'none';\n",
              "\n",
              "      async function convertToInteractive(key) {\n",
              "        const element = document.querySelector('#df-dd9873c3-98fe-4916-acd1-dd7c636f9b3a');\n",
              "        const dataTable =\n",
              "          await google.colab.kernel.invokeFunction('convertToInteractive',\n",
              "                                                    [key], {});\n",
              "        if (!dataTable) return;\n",
              "\n",
              "        const docLinkHtml = 'Like what you see? Visit the ' +\n",
              "          '<a target=\"_blank\" href=https://colab.research.google.com/notebooks/data_table.ipynb>data table notebook</a>'\n",
              "          + ' to learn more about interactive tables.';\n",
              "        element.innerHTML = '';\n",
              "        dataTable['output_type'] = 'display_data';\n",
              "        await google.colab.output.renderOutput(dataTable, element);\n",
              "        const docLink = document.createElement('div');\n",
              "        docLink.innerHTML = docLinkHtml;\n",
              "        element.appendChild(docLink);\n",
              "      }\n",
              "    </script>\n",
              "  </div>\n",
              "\n",
              "\n",
              "<div id=\"df-1ef03868-259f-417a-a8a5-5543f1561ec7\">\n",
              "  <button class=\"colab-df-quickchart\" onclick=\"quickchart('df-1ef03868-259f-417a-a8a5-5543f1561ec7')\"\n",
              "            title=\"Suggest charts\"\n",
              "            style=\"display:none;\">\n",
              "\n",
              "<svg xmlns=\"http://www.w3.org/2000/svg\" height=\"24px\"viewBox=\"0 0 24 24\"\n",
              "     width=\"24px\">\n",
              "    <g>\n",
              "        <path d=\"M19 3H5c-1.1 0-2 .9-2 2v14c0 1.1.9 2 2 2h14c1.1 0 2-.9 2-2V5c0-1.1-.9-2-2-2zM9 17H7v-7h2v7zm4 0h-2V7h2v10zm4 0h-2v-4h2v4z\"/>\n",
              "    </g>\n",
              "</svg>\n",
              "  </button>\n",
              "\n",
              "<style>\n",
              "  .colab-df-quickchart {\n",
              "      --bg-color: #E8F0FE;\n",
              "      --fill-color: #1967D2;\n",
              "      --hover-bg-color: #E2EBFA;\n",
              "      --hover-fill-color: #174EA6;\n",
              "      --disabled-fill-color: #AAA;\n",
              "      --disabled-bg-color: #DDD;\n",
              "  }\n",
              "\n",
              "  [theme=dark] .colab-df-quickchart {\n",
              "      --bg-color: #3B4455;\n",
              "      --fill-color: #D2E3FC;\n",
              "      --hover-bg-color: #434B5C;\n",
              "      --hover-fill-color: #FFFFFF;\n",
              "      --disabled-bg-color: #3B4455;\n",
              "      --disabled-fill-color: #666;\n",
              "  }\n",
              "\n",
              "  .colab-df-quickchart {\n",
              "    background-color: var(--bg-color);\n",
              "    border: none;\n",
              "    border-radius: 50%;\n",
              "    cursor: pointer;\n",
              "    display: none;\n",
              "    fill: var(--fill-color);\n",
              "    height: 32px;\n",
              "    padding: 0;\n",
              "    width: 32px;\n",
              "  }\n",
              "\n",
              "  .colab-df-quickchart:hover {\n",
              "    background-color: var(--hover-bg-color);\n",
              "    box-shadow: 0 1px 2px rgba(60, 64, 67, 0.3), 0 1px 3px 1px rgba(60, 64, 67, 0.15);\n",
              "    fill: var(--button-hover-fill-color);\n",
              "  }\n",
              "\n",
              "  .colab-df-quickchart-complete:disabled,\n",
              "  .colab-df-quickchart-complete:disabled:hover {\n",
              "    background-color: var(--disabled-bg-color);\n",
              "    fill: var(--disabled-fill-color);\n",
              "    box-shadow: none;\n",
              "  }\n",
              "\n",
              "  .colab-df-spinner {\n",
              "    border: 2px solid var(--fill-color);\n",
              "    border-color: transparent;\n",
              "    border-bottom-color: var(--fill-color);\n",
              "    animation:\n",
              "      spin 1s steps(1) infinite;\n",
              "  }\n",
              "\n",
              "  @keyframes spin {\n",
              "    0% {\n",
              "      border-color: transparent;\n",
              "      border-bottom-color: var(--fill-color);\n",
              "      border-left-color: var(--fill-color);\n",
              "    }\n",
              "    20% {\n",
              "      border-color: transparent;\n",
              "      border-left-color: var(--fill-color);\n",
              "      border-top-color: var(--fill-color);\n",
              "    }\n",
              "    30% {\n",
              "      border-color: transparent;\n",
              "      border-left-color: var(--fill-color);\n",
              "      border-top-color: var(--fill-color);\n",
              "      border-right-color: var(--fill-color);\n",
              "    }\n",
              "    40% {\n",
              "      border-color: transparent;\n",
              "      border-right-color: var(--fill-color);\n",
              "      border-top-color: var(--fill-color);\n",
              "    }\n",
              "    60% {\n",
              "      border-color: transparent;\n",
              "      border-right-color: var(--fill-color);\n",
              "    }\n",
              "    80% {\n",
              "      border-color: transparent;\n",
              "      border-right-color: var(--fill-color);\n",
              "      border-bottom-color: var(--fill-color);\n",
              "    }\n",
              "    90% {\n",
              "      border-color: transparent;\n",
              "      border-bottom-color: var(--fill-color);\n",
              "    }\n",
              "  }\n",
              "</style>\n",
              "\n",
              "  <script>\n",
              "    async function quickchart(key) {\n",
              "      const quickchartButtonEl =\n",
              "        document.querySelector('#' + key + ' button');\n",
              "      quickchartButtonEl.disabled = true;  // To prevent multiple clicks.\n",
              "      quickchartButtonEl.classList.add('colab-df-spinner');\n",
              "      try {\n",
              "        const charts = await google.colab.kernel.invokeFunction(\n",
              "            'suggestCharts', [key], {});\n",
              "      } catch (error) {\n",
              "        console.error('Error during call to suggestCharts:', error);\n",
              "      }\n",
              "      quickchartButtonEl.classList.remove('colab-df-spinner');\n",
              "      quickchartButtonEl.classList.add('colab-df-quickchart-complete');\n",
              "    }\n",
              "    (() => {\n",
              "      let quickchartButtonEl =\n",
              "        document.querySelector('#df-1ef03868-259f-417a-a8a5-5543f1561ec7 button');\n",
              "      quickchartButtonEl.style.display =\n",
              "        google.colab.kernel.accessAllowed ? 'block' : 'none';\n",
              "    })();\n",
              "  </script>\n",
              "</div>\n",
              "\n",
              "    </div>\n",
              "  </div>\n"
            ],
            "application/vnd.google.colaboratory.intrinsic+json": {
              "type": "dataframe",
              "summary": "{\n  \"name\": \"data_21\",\n  \"rows\": 8,\n  \"fields\": [\n    {\n      \"column\": \"uqnr\",\n      \"properties\": {\n        \"dtype\": \"number\",\n        \"std\": 3.350436702052186e+17,\n        \"min\": 35265.0,\n        \"max\": 9.87106920000042e+17,\n        \"num_unique_values\": 8,\n        \"samples\": [\n          6.146736221513032e+17,\n          5.991295300000116e+17,\n          35265.0\n        ],\n        \"semantic_type\": \"\",\n        \"description\": \"\"\n      }\n    },\n    {\n      \"column\": \"personnr\",\n      \"properties\": {\n        \"dtype\": \"number\",\n        \"std\": 12466.125520756745,\n        \"min\": 1.0,\n        \"max\": 35265.0,\n        \"num_unique_values\": 7,\n        \"samples\": [\n          35265.0,\n          3.108464483198639,\n          4.0\n        ],\n        \"semantic_type\": \"\",\n        \"description\": \"\"\n      }\n    },\n    {\n      \"column\": \"psu\",\n      \"properties\": {\n        \"dtype\": \"number\",\n        \"std\": 33504359894.007847,\n        \"min\": 35265.0,\n        \"max\": 98710692000.0,\n        \"num_unique_values\": 8,\n        \"samples\": [\n          61467362215.129135,\n          59912953000.0,\n          35265.0\n        ],\n        \"semantic_type\": \"\",\n        \"description\": \"\"\n      }\n    },\n    {\n      \"column\": \"age\",\n      \"properties\": {\n        \"dtype\": \"number\",\n        \"std\": 12455.430600820326,\n        \"min\": 0.0,\n        \"max\": 35265.0,\n        \"num_unique_values\": 8,\n        \"samples\": [\n          30.12128172408904,\n          27.0,\n          35265.0\n        ],\n        \"semantic_type\": \"\",\n        \"description\": \"\"\n      }\n    },\n    {\n      \"column\": \"stratum\",\n      \"properties\": {\n        \"dtype\": \"number\",\n        \"std\": 27280.140125580023,\n        \"min\": 10101.0,\n        \"max\": 90401.0,\n        \"num_unique_values\": 8,\n        \"samples\": [\n          55201.883737416705,\n          55106.0,\n          35265.0\n        ],\n        \"semantic_type\": \"\",\n        \"description\": \"\"\n      }\n    },\n    {\n      \"column\": \"geotype\",\n      \"properties\": {\n        \"dtype\": \"number\",\n        \"std\": 12467.552846585897,\n        \"min\": 0.5556119339921688,\n        \"max\": 35265.0,\n        \"num_unique_values\": 6,\n        \"samples\": [\n          35265.0,\n          1.492301148447469,\n          3.0\n        ],\n        \"semantic_type\": \"\",\n        \"description\": \"\"\n      }\n    },\n    {\n      \"column\": \"person_wgt\",\n      \"properties\": {\n        \"dtype\": \"number\",\n        \"std\": 12492.785117908743,\n        \"min\": 1.0,\n        \"max\": 35265.0,\n        \"num_unique_values\": 8,\n        \"samples\": [\n          1715.0854937757022,\n          1366.19120607,\n          35265.0\n        ],\n        \"semantic_type\": \"\",\n        \"description\": \"\"\n      }\n    }\n  ]\n}"
            }
          },
          "metadata": {},
          "execution_count": 25
        }
      ]
    },
    {
      "cell_type": "code",
      "source": [
        "# checking the number of null values in the whole dataset\n",
        "null_values = data_21.isnull().values.sum()\n",
        "null_values"
      ],
      "metadata": {
        "colab": {
          "base_uri": "https://localhost:8080/"
        },
        "id": "T2AjmoKLlxI0",
        "outputId": "ceebb8d0-48f0-4883-cf18-868066d0e590"
      },
      "execution_count": 26,
      "outputs": [
        {
          "output_type": "execute_result",
          "data": {
            "text/plain": [
              "8709"
            ]
          },
          "metadata": {},
          "execution_count": 26
        }
      ]
    },
    {
      "cell_type": "markdown",
      "source": [],
      "metadata": {
        "id": "dThHdoxnIRmJ"
      }
    },
    {
      "cell_type": "markdown",
      "source": [
        "There are about 8709 null values in the dataset, to see the collumns that contains these null values we will filter the dataser to only display columns with null values"
      ],
      "metadata": {
        "id": "A4jdOzASmpG6"
      }
    },
    {
      "cell_type": "code",
      "source": [
        "# Filter to show only columns with null values\n",
        "columns_with_nulls = null_values[null_values > 0]\n",
        "print(columns_with_nulls)"
      ],
      "metadata": {
        "colab": {
          "base_uri": "https://localhost:8080/"
        },
        "id": "KJIl0IpKxIG0",
        "outputId": "b9ef39d9-148b-401b-e34d-edb506d2991c"
      },
      "execution_count": 27,
      "outputs": [
        {
          "output_type": "stream",
          "name": "stdout",
          "text": [
            "[8709]\n"
          ]
        }
      ]
    },
    {
      "cell_type": "code",
      "source": [
        "# using a heatmap to visualize the missing values in the two columns with null values\n",
        "sns.heatmap(data_21[['ecd_fees', 'edu_totfees']].isnull(), cbar=True, cmap='viridis')\n",
        "plt.show()"
      ],
      "metadata": {
        "colab": {
          "base_uri": "https://localhost:8080/",
          "height": 437
        },
        "id": "J1sSujB2ITn-",
        "outputId": "0708f933-2fe3-4cb1-c2fd-daf9322e436c"
      },
      "execution_count": 28,
      "outputs": [
        {
          "output_type": "display_data",
          "data": {
            "text/plain": [
              "<Figure size 640x480 with 2 Axes>"
            ],
            "image/png": "[encoded data removed]"
          },
          "metadata": {}
        }
      ]
    },
    {
      "cell_type": "markdown",
      "source": [
        "From the above results, we realize the columns that contain null values and the number of null values each columns have, edu_totfees: 7694, ecd_fees: 1015, the sum of the two should give us 8709, lets check before we conclude if these two columns are the only ones with rull values"
      ],
      "metadata": {
        "id": "1qzJNB7Gn4DC"
      }
    },
    {
      "cell_type": "code",
      "source": [
        "1015 + 7694"
      ],
      "metadata": {
        "colab": {
          "base_uri": "https://localhost:8080/"
        },
        "id": "KYSU_I74nrc_",
        "outputId": "c1b3abfe-eecf-48d5-fd95-92325cd0e525"
      },
      "execution_count": 29,
      "outputs": [
        {
          "output_type": "execute_result",
          "data": {
            "text/plain": [
              "8709"
            ]
          },
          "metadata": {},
          "execution_count": 29
        }
      ]
    },
    {
      "cell_type": "markdown",
      "source": [
        "it is proven that the two columns are the only ones with null values, ecd_fees and edu_totfees\n"
      ],
      "metadata": {
        "id": "EF-3JAVDo4FB"
      }
    },
    {
      "cell_type": "code",
      "source": [
        "# reading the two columns with null values\n",
        "data_21[['edu_totfees', 'ecd_fees']]"
      ],
      "metadata": {
        "colab": {
          "base_uri": "https://localhost:8080/",
          "height": 423
        },
        "id": "8q-tHxs8oze0",
        "outputId": "a2b2a372-f6d9-4ce0-efb1-27d3becf959a"
      },
      "execution_count": 30,
      "outputs": [
        {
          "output_type": "execute_result",
          "data": {
            "text/plain": [
              "          edu_totfees        ecd_fees\n",
              "0      Not applicable  Not applicable\n",
              "1      Not applicable  Not applicable\n",
              "2      Not applicable  Not applicable\n",
              "3      Not applicable  Not applicable\n",
              "4                 NaN  Not applicable\n",
              "...               ...             ...\n",
              "35260  Not applicable  Not applicable\n",
              "35261  Not applicable  Not applicable\n",
              "35262  Not applicable  Not applicable\n",
              "35263             NaN  Not applicable\n",
              "35264             NaN             NaN\n",
              "\n",
              "[35265 rows x 2 columns]"
            ],
            "text/html": [
              "\n",
              "  <div id=\"df-633b8693-a2d5-4c8c-ba3f-8f8d958912e3\" class=\"colab-df-container\">\n",
              "    <div>\n",
              "<style scoped>\n",
              "    .dataframe tbody tr th:only-of-type {\n",
              "        vertical-align: middle;\n",
              "    }\n",
              "\n",
              "    .dataframe tbody tr th {\n",
              "        vertical-align: top;\n",
              "    }\n",
              "\n",
              "    .dataframe thead th {\n",
              "        text-align: right;\n",
              "    }\n",
              "</style>\n",
              "<table border=\"1\" class=\"dataframe\">\n",
              "  <thead>\n",
              "    <tr style=\"text-align: right;\">\n",
              "      <th></th>\n",
              "      <th>edu_totfees</th>\n",
              "      <th>ecd_fees</th>\n",
              "    </tr>\n",
              "  </thead>\n",
              "  <tbody>\n",
              "    <tr>\n",
              "      <th>0</th>\n",
              "      <td>Not applicable</td>\n",
              "      <td>Not applicable</td>\n",
              "    </tr>\n",
              "    <tr>\n",
              "      <th>1</th>\n",
              "      <td>Not applicable</td>\n",
              "      <td>Not applicable</td>\n",
              "    </tr>\n",
              "    <tr>\n",
              "      <th>2</th>\n",
              "      <td>Not applicable</td>\n",
              "      <td>Not applicable</td>\n",
              "    </tr>\n",
              "    <tr>\n",
              "      <th>3</th>\n",
              "      <td>Not applicable</td>\n",
              "      <td>Not applicable</td>\n",
              "    </tr>\n",
              "    <tr>\n",
              "      <th>4</th>\n",
              "      <td>NaN</td>\n",
              "      <td>Not applicable</td>\n",
              "    </tr>\n",
              "    <tr>\n",
              "      <th>...</th>\n",
              "      <td>...</td>\n",
              "      <td>...</td>\n",
              "    </tr>\n",
              "    <tr>\n",
              "      <th>35260</th>\n",
              "      <td>Not applicable</td>\n",
              "      <td>Not applicable</td>\n",
              "    </tr>\n",
              "    <tr>\n",
              "      <th>35261</th>\n",
              "      <td>Not applicable</td>\n",
              "      <td>Not applicable</td>\n",
              "    </tr>\n",
              "    <tr>\n",
              "      <th>35262</th>\n",
              "      <td>Not applicable</td>\n",
              "      <td>Not applicable</td>\n",
              "    </tr>\n",
              "    <tr>\n",
              "      <th>35263</th>\n",
              "      <td>NaN</td>\n",
              "      <td>Not applicable</td>\n",
              "    </tr>\n",
              "    <tr>\n",
              "      <th>35264</th>\n",
              "      <td>NaN</td>\n",
              "      <td>NaN</td>\n",
              "    </tr>\n",
              "  </tbody>\n",
              "</table>\n",
              "<p>35265 rows × 2 columns</p>\n",
              "</div>\n",
              "    <div class=\"colab-df-buttons\">\n",
              "\n",
              "  <div class=\"colab-df-container\">\n",
              "    <button class=\"colab-df-convert\" onclick=\"convertToInteractive('df-633b8693-a2d5-4c8c-ba3f-8f8d958912e3')\"\n",
              "            title=\"Convert this dataframe to an interactive table.\"\n",
              "            style=\"display:none;\">\n",
              "\n",
              "  <svg xmlns=\"http://www.w3.org/2000/svg\" height=\"24px\" viewBox=\"0 -960 960 960\">\n",
              "    <path d=\"M120-120v-720h720v720H120Zm60-500h600v-160H180v160Zm220 220h160v-160H400v160Zm0 220h160v-160H400v160ZM180-400h160v-160H180v160Zm440 0h160v-160H620v160ZM180-180h160v-160H180v160Zm440 0h160v-160H620v160Z\"/>\n",
              "  </svg>\n",
              "    </button>\n",
              "\n",
              "  <style>\n",
              "    .colab-df-container {\n",
              "      display:flex;\n",
              "      gap: 12px;\n",
              "    }\n",
              "\n",
              "    .colab-df-convert {\n",
              "      background-color: #E8F0FE;\n",
              "      border: none;\n",
              "      border-radius: 50%;\n",
              "      cursor: pointer;\n",
              "      display: none;\n",
              "      fill: #1967D2;\n",
              "      height: 32px;\n",
              "      padding: 0 0 0 0;\n",
              "      width: 32px;\n",
              "    }\n",
              "\n",
              "    .colab-df-convert:hover {\n",
              "      background-color: #E2EBFA;\n",
              "      box-shadow: 0px 1px 2px rgba(60, 64, 67, 0.3), 0px 1px 3px 1px rgba(60, 64, 67, 0.15);\n",
              "      fill: #174EA6;\n",
              "    }\n",
              "\n",
              "    .colab-df-buttons div {\n",
              "      margin-bottom: 4px;\n",
              "    }\n",
              "\n",
              "    [theme=dark] .colab-df-convert {\n",
              "      background-color: #3B4455;\n",
              "      fill: #D2E3FC;\n",
              "    }\n",
              "\n",
              "    [theme=dark] .colab-df-convert:hover {\n",
              "      background-color: #434B5C;\n",
              "      box-shadow: 0px 1px 3px 1px rgba(0, 0, 0, 0.15);\n",
              "      filter: drop-shadow(0px 1px 2px rgba(0, 0, 0, 0.3));\n",
              "      fill: #FFFFFF;\n",
              "    }\n",
              "  </style>\n",
              "\n",
              "    <script>\n",
              "      const buttonEl =\n",
              "        document.querySelector('#df-633b8693-a2d5-4c8c-ba3f-8f8d958912e3 button.colab-df-convert');\n",
              "      buttonEl.style.display =\n",
              "        google.colab.kernel.accessAllowed ? 'block' : 'none';\n",
              "\n",
              "      async function convertToInteractive(key) {\n",
              "        const element = document.querySelector('#df-633b8693-a2d5-4c8c-ba3f-8f8d958912e3');\n",
              "        const dataTable =\n",
              "          await google.colab.kernel.invokeFunction('convertToInteractive',\n",
              "                                                    [key], {});\n",
              "        if (!dataTable) return;\n",
              "\n",
              "        const docLinkHtml = 'Like what you see? Visit the ' +\n",
              "          '<a target=\"_blank\" href=https://colab.research.google.com/notebooks/data_table.ipynb>data table notebook</a>'\n",
              "          + ' to learn more about interactive tables.';\n",
              "        element.innerHTML = '';\n",
              "        dataTable['output_type'] = 'display_data';\n",
              "        await google.colab.output.renderOutput(dataTable, element);\n",
              "        const docLink = document.createElement('div');\n",
              "        docLink.innerHTML = docLinkHtml;\n",
              "        element.appendChild(docLink);\n",
              "      }\n",
              "    </script>\n",
              "  </div>\n",
              "\n",
              "\n",
              "<div id=\"df-e651607f-68a1-4143-b989-578464374358\">\n",
              "  <button class=\"colab-df-quickchart\" onclick=\"quickchart('df-e651607f-68a1-4143-b989-578464374358')\"\n",
              "            title=\"Suggest charts\"\n",
              "            style=\"display:none;\">\n",
              "\n",
              "<svg xmlns=\"http://www.w3.org/2000/svg\" height=\"24px\"viewBox=\"0 0 24 24\"\n",
              "     width=\"24px\">\n",
              "    <g>\n",
              "        <path d=\"M19 3H5c-1.1 0-2 .9-2 2v14c0 1.1.9 2 2 2h14c1.1 0 2-.9 2-2V5c0-1.1-.9-2-2-2zM9 17H7v-7h2v7zm4 0h-2V7h2v10zm4 0h-2v-4h2v4z\"/>\n",
              "    </g>\n",
              "</svg>\n",
              "  </button>\n",
              "\n",
              "<style>\n",
              "  .colab-df-quickchart {\n",
              "      --bg-color: #E8F0FE;\n",
              "      --fill-color: #1967D2;\n",
              "      --hover-bg-color: #E2EBFA;\n",
              "      --hover-fill-color: #174EA6;\n",
              "      --disabled-fill-color: #AAA;\n",
              "      --disabled-bg-color: #DDD;\n",
              "  }\n",
              "\n",
              "  [theme=dark] .colab-df-quickchart {\n",
              "      --bg-color: #3B4455;\n",
              "      --fill-color: #D2E3FC;\n",
              "      --hover-bg-color: #434B5C;\n",
              "      --hover-fill-color: #FFFFFF;\n",
              "      --disabled-bg-color: #3B4455;\n",
              "      --disabled-fill-color: #666;\n",
              "  }\n",
              "\n",
              "  .colab-df-quickchart {\n",
              "    background-color: var(--bg-color);\n",
              "    border: none;\n",
              "    border-radius: 50%;\n",
              "    cursor: pointer;\n",
              "    display: none;\n",
              "    fill: var(--fill-color);\n",
              "    height: 32px;\n",
              "    padding: 0;\n",
              "    width: 32px;\n",
              "  }\n",
              "\n",
              "  .colab-df-quickchart:hover {\n",
              "    background-color: var(--hover-bg-color);\n",
              "    box-shadow: 0 1px 2px rgba(60, 64, 67, 0.3), 0 1px 3px 1px rgba(60, 64, 67, 0.15);\n",
              "    fill: var(--button-hover-fill-color);\n",
              "  }\n",
              "\n",
              "  .colab-df-quickchart-complete:disabled,\n",
              "  .colab-df-quickchart-complete:disabled:hover {\n",
              "    background-color: var(--disabled-bg-color);\n",
              "    fill: var(--disabled-fill-color);\n",
              "    box-shadow: none;\n",
              "  }\n",
              "\n",
              "  .colab-df-spinner {\n",
              "    border: 2px solid var(--fill-color);\n",
              "    border-color: transparent;\n",
              "    border-bottom-color: var(--fill-color);\n",
              "    animation:\n",
              "      spin 1s steps(1) infinite;\n",
              "  }\n",
              "\n",
              "  @keyframes spin {\n",
              "    0% {\n",
              "      border-color: transparent;\n",
              "      border-bottom-color: var(--fill-color);\n",
              "      border-left-color: var(--fill-color);\n",
              "    }\n",
              "    20% {\n",
              "      border-color: transparent;\n",
              "      border-left-color: var(--fill-color);\n",
              "      border-top-color: var(--fill-color);\n",
              "    }\n",
              "    30% {\n",
              "      border-color: transparent;\n",
              "      border-left-color: var(--fill-color);\n",
              "      border-top-color: var(--fill-color);\n",
              "      border-right-color: var(--fill-color);\n",
              "    }\n",
              "    40% {\n",
              "      border-color: transparent;\n",
              "      border-right-color: var(--fill-color);\n",
              "      border-top-color: var(--fill-color);\n",
              "    }\n",
              "    60% {\n",
              "      border-color: transparent;\n",
              "      border-right-color: var(--fill-color);\n",
              "    }\n",
              "    80% {\n",
              "      border-color: transparent;\n",
              "      border-right-color: var(--fill-color);\n",
              "      border-bottom-color: var(--fill-color);\n",
              "    }\n",
              "    90% {\n",
              "      border-color: transparent;\n",
              "      border-bottom-color: var(--fill-color);\n",
              "    }\n",
              "  }\n",
              "</style>\n",
              "\n",
              "  <script>\n",
              "    async function quickchart(key) {\n",
              "      const quickchartButtonEl =\n",
              "        document.querySelector('#' + key + ' button');\n",
              "      quickchartButtonEl.disabled = true;  // To prevent multiple clicks.\n",
              "      quickchartButtonEl.classList.add('colab-df-spinner');\n",
              "      try {\n",
              "        const charts = await google.colab.kernel.invokeFunction(\n",
              "            'suggestCharts', [key], {});\n",
              "      } catch (error) {\n",
              "        console.error('Error during call to suggestCharts:', error);\n",
              "      }\n",
              "      quickchartButtonEl.classList.remove('colab-df-spinner');\n",
              "      quickchartButtonEl.classList.add('colab-df-quickchart-complete');\n",
              "    }\n",
              "    (() => {\n",
              "      let quickchartButtonEl =\n",
              "        document.querySelector('#df-e651607f-68a1-4143-b989-578464374358 button');\n",
              "      quickchartButtonEl.style.display =\n",
              "        google.colab.kernel.accessAllowed ? 'block' : 'none';\n",
              "    })();\n",
              "  </script>\n",
              "</div>\n",
              "\n",
              "    </div>\n",
              "  </div>\n"
            ],
            "application/vnd.google.colaboratory.intrinsic+json": {
              "type": "dataframe",
              "summary": "{\n  \"name\": \"data_21[['edu_totfees', 'ecd_fees']]\",\n  \"rows\": 35265,\n  \"fields\": [\n    {\n      \"column\": \"edu_totfees\",\n      \"properties\": {\n        \"dtype\": \"category\",\n        \"num_unique_values\": 16,\n        \"samples\": [\n          \"Not applicable\",\n          \"R12 001-R16 000\",\n          \"R3 001-R4 000\"\n        ],\n        \"semantic_type\": \"\",\n        \"description\": \"\"\n      }\n    },\n    {\n      \"column\": \"ecd_fees\",\n      \"properties\": {\n        \"dtype\": \"category\",\n        \"num_unique_values\": 9,\n        \"samples\": [\n          \"More than R2 000\",\n          \"R101-R200\",\n          \"R1 001-R2 000\"\n        ],\n        \"semantic_type\": \"\",\n        \"description\": \"\"\n      }\n    }\n  ]\n}"
            }
          },
          "metadata": {},
          "execution_count": 30
        }
      ]
    },
    {
      "cell_type": "markdown",
      "source": [
        "### Visualizing the distribution of numerical features"
      ],
      "metadata": {
        "id": "bWGoyOuyLwM1"
      }
    },
    {
      "cell_type": "code",
      "source": [
        "data_21.hist(bins=30, figsize=(20, 15))\n",
        "plt.show()"
      ],
      "metadata": {
        "colab": {
          "base_uri": "https://localhost:8080/",
          "height": 625
        },
        "id": "K7_nh5GrL5qK",
        "outputId": "b91c91ca-ff75-42cf-df59-a9db876c7785"
      },
      "execution_count": 31,
      "outputs": [
        {
          "output_type": "display_data",
          "data": {
            "text/plain": [
              "<Figure size 2000x1500 with 9 Axes>"
            ],
            "image/png": "[encoded data removed]"
          },
          "metadata": {}
        }
      ]
    },
    {
      "cell_type": "markdown",
      "source": [
        "### Undestanding the realationship between the numeriacal features"
      ],
      "metadata": {
        "id": "YVpLpC77Mh5Z"
      }
    },
    {
      "cell_type": "code",
      "source": [
        "numerical_data = data_21.select_dtypes(include=['number'])\n",
        "correlation_matrix = numerical_data.corr()\n",
        "correlation_matrix\n"
      ],
      "metadata": {
        "colab": {
          "base_uri": "https://localhost:8080/",
          "height": 269
        },
        "id": "jSA-3TG-RCIg",
        "outputId": "52cb89fb-ef2e-4501-8a81-d168ca30b22c"
      },
      "execution_count": 32,
      "outputs": [
        {
          "output_type": "execute_result",
          "data": {
            "text/plain": [
              "                uqnr  personnr       psu       age   stratum   geotype  \\\n",
              "uqnr        1.000000  0.015361  1.000000 -0.059899  0.996903  0.130816   \n",
              "personnr    0.015361  1.000000  0.015361 -0.649028  0.012022  0.096058   \n",
              "psu         1.000000  0.015361  1.000000 -0.059899  0.996903  0.130816   \n",
              "age        -0.059899 -0.649028 -0.059899  1.000000 -0.057301 -0.054207   \n",
              "stratum     0.996903  0.012022  0.996903 -0.057301  1.000000  0.103831   \n",
              "geotype     0.130816  0.096058  0.130816 -0.054207  0.103831  1.000000   \n",
              "person_wgt  0.011821  0.051040  0.011821 -0.063436  0.028575 -0.200920   \n",
              "\n",
              "            person_wgt  \n",
              "uqnr          0.011821  \n",
              "personnr      0.051040  \n",
              "psu           0.011821  \n",
              "age          -0.063436  \n",
              "stratum       0.028575  \n",
              "geotype      -0.200920  \n",
              "person_wgt    1.000000  "
            ],
            "text/html": [
              "\n",
              "  <div id=\"df-b5b37f5b-ca5e-4845-b103-049d1a35ca21\" class=\"colab-df-container\">\n",
              "    <div>\n",
              "<style scoped>\n",
              "    .dataframe tbody tr th:only-of-type {\n",
              "        vertical-align: middle;\n",
              "    }\n",
              "\n",
              "    .dataframe tbody tr th {\n",
              "        vertical-align: top;\n",
              "    }\n",
              "\n",
              "    .dataframe thead th {\n",
              "        text-align: right;\n",
              "    }\n",
              "</style>\n",
              "<table border=\"1\" class=\"dataframe\">\n",
              "  <thead>\n",
              "    <tr style=\"text-align: right;\">\n",
              "      <th></th>\n",
              "      <th>uqnr</th>\n",
              "      <th>personnr</th>\n",
              "      <th>psu</th>\n",
              "      <th>age</th>\n",
              "      <th>stratum</th>\n",
              "      <th>geotype</th>\n",
              "      <th>person_wgt</th>\n",
              "    </tr>\n",
              "  </thead>\n",
              "  <tbody>\n",
              "    <tr>\n",
              "      <th>uqnr</th>\n",
              "      <td>1.000000</td>\n",
              "      <td>0.015361</td>\n",
              "      <td>1.000000</td>\n",
              "      <td>-0.059899</td>\n",
              "      <td>0.996903</td>\n",
              "      <td>0.130816</td>\n",
              "      <td>0.011821</td>\n",
              "    </tr>\n",
              "    <tr>\n",
              "      <th>personnr</th>\n",
              "      <td>0.015361</td>\n",
              "      <td>1.000000</td>\n",
              "      <td>0.015361</td>\n",
              "      <td>-0.649028</td>\n",
              "      <td>0.012022</td>\n",
              "      <td>0.096058</td>\n",
              "      <td>0.051040</td>\n",
              "    </tr>\n",
              "    <tr>\n",
              "      <th>psu</th>\n",
              "      <td>1.000000</td>\n",
              "      <td>0.015361</td>\n",
              "      <td>1.000000</td>\n",
              "      <td>-0.059899</td>\n",
              "      <td>0.996903</td>\n",
              "      <td>0.130816</td>\n",
              "      <td>0.011821</td>\n",
              "    </tr>\n",
              "    <tr>\n",
              "      <th>age</th>\n",
              "      <td>-0.059899</td>\n",
              "      <td>-0.649028</td>\n",
              "      <td>-0.059899</td>\n",
              "      <td>1.000000</td>\n",
              "      <td>-0.057301</td>\n",
              "      <td>-0.054207</td>\n",
              "      <td>-0.063436</td>\n",
              "    </tr>\n",
              "    <tr>\n",
              "      <th>stratum</th>\n",
              "      <td>0.996903</td>\n",
              "      <td>0.012022</td>\n",
              "      <td>0.996903</td>\n",
              "      <td>-0.057301</td>\n",
              "      <td>1.000000</td>\n",
              "      <td>0.103831</td>\n",
              "      <td>0.028575</td>\n",
              "    </tr>\n",
              "    <tr>\n",
              "      <th>geotype</th>\n",
              "      <td>0.130816</td>\n",
              "      <td>0.096058</td>\n",
              "      <td>0.130816</td>\n",
              "      <td>-0.054207</td>\n",
              "      <td>0.103831</td>\n",
              "      <td>1.000000</td>\n",
              "      <td>-0.200920</td>\n",
              "    </tr>\n",
              "    <tr>\n",
              "      <th>person_wgt</th>\n",
              "      <td>0.011821</td>\n",
              "      <td>0.051040</td>\n",
              "      <td>0.011821</td>\n",
              "      <td>-0.063436</td>\n",
              "      <td>0.028575</td>\n",
              "      <td>-0.200920</td>\n",
              "      <td>1.000000</td>\n",
              "    </tr>\n",
              "  </tbody>\n",
              "</table>\n",
              "</div>\n",
              "    <div class=\"colab-df-buttons\">\n",
              "\n",
              "  <div class=\"colab-df-container\">\n",
              "    <button class=\"colab-df-convert\" onclick=\"convertToInteractive('df-b5b37f5b-ca5e-4845-b103-049d1a35ca21')\"\n",
              "            title=\"Convert this dataframe to an interactive table.\"\n",
              "            style=\"display:none;\">\n",
              "\n",
              "  <svg xmlns=\"http://www.w3.org/2000/svg\" height=\"24px\" viewBox=\"0 -960 960 960\">\n",
              "    <path d=\"M120-120v-720h720v720H120Zm60-500h600v-160H180v160Zm220 220h160v-160H400v160Zm0 220h160v-160H400v160ZM180-400h160v-160H180v160Zm440 0h160v-160H620v160ZM180-180h160v-160H180v160Zm440 0h160v-160H620v160Z\"/>\n",
              "  </svg>\n",
              "    </button>\n",
              "\n",
              "  <style>\n",
              "    .colab-df-container {\n",
              "      display:flex;\n",
              "      gap: 12px;\n",
              "    }\n",
              "\n",
              "    .colab-df-convert {\n",
              "      background-color: #E8F0FE;\n",
              "      border: none;\n",
              "      border-radius: 50%;\n",
              "      cursor: pointer;\n",
              "      display: none;\n",
              "      fill: #1967D2;\n",
              "      height: 32px;\n",
              "      padding: 0 0 0 0;\n",
              "      width: 32px;\n",
              "    }\n",
              "\n",
              "    .colab-df-convert:hover {\n",
              "      background-color: #E2EBFA;\n",
              "      box-shadow: 0px 1px 2px rgba(60, 64, 67, 0.3), 0px 1px 3px 1px rgba(60, 64, 67, 0.15);\n",
              "      fill: #174EA6;\n",
              "    }\n",
              "\n",
              "    .colab-df-buttons div {\n",
              "      margin-bottom: 4px;\n",
              "    }\n",
              "\n",
              "    [theme=dark] .colab-df-convert {\n",
              "      background-color: #3B4455;\n",
              "      fill: #D2E3FC;\n",
              "    }\n",
              "\n",
              "    [theme=dark] .colab-df-convert:hover {\n",
              "      background-color: #434B5C;\n",
              "      box-shadow: 0px 1px 3px 1px rgba(0, 0, 0, 0.15);\n",
              "      filter: drop-shadow(0px 1px 2px rgba(0, 0, 0, 0.3));\n",
              "      fill: #FFFFFF;\n",
              "    }\n",
              "  </style>\n",
              "\n",
              "    <script>\n",
              "      const buttonEl =\n",
              "        document.querySelector('#df-b5b37f5b-ca5e-4845-b103-049d1a35ca21 button.colab-df-convert');\n",
              "      buttonEl.style.display =\n",
              "        google.colab.kernel.accessAllowed ? 'block' : 'none';\n",
              "\n",
              "      async function convertToInteractive(key) {\n",
              "        const element = document.querySelector('#df-b5b37f5b-ca5e-4845-b103-049d1a35ca21');\n",
              "        const dataTable =\n",
              "          await google.colab.kernel.invokeFunction('convertToInteractive',\n",
              "                                                    [key], {});\n",
              "        if (!dataTable) return;\n",
              "\n",
              "        const docLinkHtml = 'Like what you see? Visit the ' +\n",
              "          '<a target=\"_blank\" href=https://colab.research.google.com/notebooks/data_table.ipynb>data table notebook</a>'\n",
              "          + ' to learn more about interactive tables.';\n",
              "        element.innerHTML = '';\n",
              "        dataTable['output_type'] = 'display_data';\n",
              "        await google.colab.output.renderOutput(dataTable, element);\n",
              "        const docLink = document.createElement('div');\n",
              "        docLink.innerHTML = docLinkHtml;\n",
              "        element.appendChild(docLink);\n",
              "      }\n",
              "    </script>\n",
              "  </div>\n",
              "\n",
              "\n",
              "<div id=\"df-e0584c82-8e56-453c-9a3e-2254ece409ed\">\n",
              "  <button class=\"colab-df-quickchart\" onclick=\"quickchart('df-e0584c82-8e56-453c-9a3e-2254ece409ed')\"\n",
              "            title=\"Suggest charts\"\n",
              "            style=\"display:none;\">\n",
              "\n",
              "<svg xmlns=\"http://www.w3.org/2000/svg\" height=\"24px\"viewBox=\"0 0 24 24\"\n",
              "     width=\"24px\">\n",
              "    <g>\n",
              "        <path d=\"M19 3H5c-1.1 0-2 .9-2 2v14c0 1.1.9 2 2 2h14c1.1 0 2-.9 2-2V5c0-1.1-.9-2-2-2zM9 17H7v-7h2v7zm4 0h-2V7h2v10zm4 0h-2v-4h2v4z\"/>\n",
              "    </g>\n",
              "</svg>\n",
              "  </button>\n",
              "\n",
              "<style>\n",
              "  .colab-df-quickchart {\n",
              "      --bg-color: #E8F0FE;\n",
              "      --fill-color: #1967D2;\n",
              "      --hover-bg-color: #E2EBFA;\n",
              "      --hover-fill-color: #174EA6;\n",
              "      --disabled-fill-color: #AAA;\n",
              "      --disabled-bg-color: #DDD;\n",
              "  }\n",
              "\n",
              "  [theme=dark] .colab-df-quickchart {\n",
              "      --bg-color: #3B4455;\n",
              "      --fill-color: #D2E3FC;\n",
              "      --hover-bg-color: #434B5C;\n",
              "      --hover-fill-color: #FFFFFF;\n",
              "      --disabled-bg-color: #3B4455;\n",
              "      --disabled-fill-color: #666;\n",
              "  }\n",
              "\n",
              "  .colab-df-quickchart {\n",
              "    background-color: var(--bg-color);\n",
              "    border: none;\n",
              "    border-radius: 50%;\n",
              "    cursor: pointer;\n",
              "    display: none;\n",
              "    fill: var(--fill-color);\n",
              "    height: 32px;\n",
              "    padding: 0;\n",
              "    width: 32px;\n",
              "  }\n",
              "\n",
              "  .colab-df-quickchart:hover {\n",
              "    background-color: var(--hover-bg-color);\n",
              "    box-shadow: 0 1px 2px rgba(60, 64, 67, 0.3), 0 1px 3px 1px rgba(60, 64, 67, 0.15);\n",
              "    fill: var(--button-hover-fill-color);\n",
              "  }\n",
              "\n",
              "  .colab-df-quickchart-complete:disabled,\n",
              "  .colab-df-quickchart-complete:disabled:hover {\n",
              "    background-color: var(--disabled-bg-color);\n",
              "    fill: var(--disabled-fill-color);\n",
              "    box-shadow: none;\n",
              "  }\n",
              "\n",
              "  .colab-df-spinner {\n",
              "    border: 2px solid var(--fill-color);\n",
              "    border-color: transparent;\n",
              "    border-bottom-color: var(--fill-color);\n",
              "    animation:\n",
              "      spin 1s steps(1) infinite;\n",
              "  }\n",
              "\n",
              "  @keyframes spin {\n",
              "    0% {\n",
              "      border-color: transparent;\n",
              "      border-bottom-color: var(--fill-color);\n",
              "      border-left-color: var(--fill-color);\n",
              "    }\n",
              "    20% {\n",
              "      border-color: transparent;\n",
              "      border-left-color: var(--fill-color);\n",
              "      border-top-color: var(--fill-color);\n",
              "    }\n",
              "    30% {\n",
              "      border-color: transparent;\n",
              "      border-left-color: var(--fill-color);\n",
              "      border-top-color: var(--fill-color);\n",
              "      border-right-color: var(--fill-color);\n",
              "    }\n",
              "    40% {\n",
              "      border-color: transparent;\n",
              "      border-right-color: var(--fill-color);\n",
              "      border-top-color: var(--fill-color);\n",
              "    }\n",
              "    60% {\n",
              "      border-color: transparent;\n",
              "      border-right-color: var(--fill-color);\n",
              "    }\n",
              "    80% {\n",
              "      border-color: transparent;\n",
              "      border-right-color: var(--fill-color);\n",
              "      border-bottom-color: var(--fill-color);\n",
              "    }\n",
              "    90% {\n",
              "      border-color: transparent;\n",
              "      border-bottom-color: var(--fill-color);\n",
              "    }\n",
              "  }\n",
              "</style>\n",
              "\n",
              "  <script>\n",
              "    async function quickchart(key) {\n",
              "      const quickchartButtonEl =\n",
              "        document.querySelector('#' + key + ' button');\n",
              "      quickchartButtonEl.disabled = true;  // To prevent multiple clicks.\n",
              "      quickchartButtonEl.classList.add('colab-df-spinner');\n",
              "      try {\n",
              "        const charts = await google.colab.kernel.invokeFunction(\n",
              "            'suggestCharts', [key], {});\n",
              "      } catch (error) {\n",
              "        console.error('Error during call to suggestCharts:', error);\n",
              "      }\n",
              "      quickchartButtonEl.classList.remove('colab-df-spinner');\n",
              "      quickchartButtonEl.classList.add('colab-df-quickchart-complete');\n",
              "    }\n",
              "    (() => {\n",
              "      let quickchartButtonEl =\n",
              "        document.querySelector('#df-e0584c82-8e56-453c-9a3e-2254ece409ed button');\n",
              "      quickchartButtonEl.style.display =\n",
              "        google.colab.kernel.accessAllowed ? 'block' : 'none';\n",
              "    })();\n",
              "  </script>\n",
              "</div>\n",
              "\n",
              "  <div id=\"id_9885c165-edd1-46fe-83a0-402f837ace95\">\n",
              "    <style>\n",
              "      .colab-df-generate {\n",
              "        background-color: #E8F0FE;\n",
              "        border: none;\n",
              "        border-radius: 50%;\n",
              "        cursor: pointer;\n",
              "        display: none;\n",
              "        fill: #1967D2;\n",
              "        height: 32px;\n",
              "        padding: 0 0 0 0;\n",
              "        width: 32px;\n",
              "      }\n",
              "\n",
              "      .colab-df-generate:hover {\n",
              "        background-color: #E2EBFA;\n",
              "        box-shadow: 0px 1px 2px rgba(60, 64, 67, 0.3), 0px 1px 3px 1px rgba(60, 64, 67, 0.15);\n",
              "        fill: #174EA6;\n",
              "      }\n",
              "\n",
              "      [theme=dark] .colab-df-generate {\n",
              "        background-color: #3B4455;\n",
              "        fill: #D2E3FC;\n",
              "      }\n",
              "\n",
              "      [theme=dark] .colab-df-generate:hover {\n",
              "        background-color: #434B5C;\n",
              "        box-shadow: 0px 1px 3px 1px rgba(0, 0, 0, 0.15);\n",
              "        filter: drop-shadow(0px 1px 2px rgba(0, 0, 0, 0.3));\n",
              "        fill: #FFFFFF;\n",
              "      }\n",
              "    </style>\n",
              "    <button class=\"colab-df-generate\" onclick=\"generateWithVariable('correlation_matrix')\"\n",
              "            title=\"Generate code using this dataframe.\"\n",
              "            style=\"display:none;\">\n",
              "\n",
              "  <svg xmlns=\"http://www.w3.org/2000/svg\" height=\"24px\"viewBox=\"0 0 24 24\"\n",
              "       width=\"24px\">\n",
              "    <path d=\"M7,19H8.4L18.45,9,17,7.55,7,17.6ZM5,21V16.75L18.45,3.32a2,2,0,0,1,2.83,0l1.4,1.43a1.91,1.91,0,0,1,.58,1.4,1.91,1.91,0,0,1-.58,1.4L9.25,21ZM18.45,9,17,7.55Zm-12,3A5.31,5.31,0,0,0,4.9,8.1,5.31,5.31,0,0,0,1,6.5,5.31,5.31,0,0,0,4.9,4.9,5.31,5.31,0,0,0,6.5,1,5.31,5.31,0,0,0,8.1,4.9,5.31,5.31,0,0,0,12,6.5,5.46,5.46,0,0,0,6.5,12Z\"/>\n",
              "  </svg>\n",
              "    </button>\n",
              "    <script>\n",
              "      (() => {\n",
              "      const buttonEl =\n",
              "        document.querySelector('#id_9885c165-edd1-46fe-83a0-402f837ace95 button.colab-df-generate');\n",
              "      buttonEl.style.display =\n",
              "        google.colab.kernel.accessAllowed ? 'block' : 'none';\n",
              "\n",
              "      buttonEl.onclick = () => {\n",
              "        google.colab.notebook.generateWithVariable('correlation_matrix');\n",
              "      }\n",
              "      })();\n",
              "    </script>\n",
              "  </div>\n",
              "\n",
              "    </div>\n",
              "  </div>\n"
            ],
            "application/vnd.google.colaboratory.intrinsic+json": {
              "type": "dataframe",
              "variable_name": "correlation_matrix",
              "summary": "{\n  \"name\": \"correlation_matrix\",\n  \"rows\": 7,\n  \"fields\": [\n    {\n      \"column\": \"uqnr\",\n      \"properties\": {\n        \"dtype\": \"number\",\n        \"std\": 0.5238413812400546,\n        \"min\": -0.05989935561237339,\n        \"max\": 1.0,\n        \"num_unique_values\": 7,\n        \"samples\": [\n          1.0,\n          0.015361319684627294,\n          0.13081552065271748\n        ],\n        \"semantic_type\": \"\",\n        \"description\": \"\"\n      }\n    },\n    {\n      \"column\": \"personnr\",\n      \"properties\": {\n        \"dtype\": \"number\",\n        \"std\": 0.4816471218704832,\n        \"min\": -0.6490283905068583,\n        \"max\": 1.0,\n        \"num_unique_values\": 7,\n        \"samples\": [\n          0.015361319684627294,\n          1.0,\n          0.0960583836896277\n        ],\n        \"semantic_type\": \"\",\n        \"description\": \"\"\n      }\n    },\n    {\n      \"column\": \"psu\",\n      \"properties\": {\n        \"dtype\": \"number\",\n        \"std\": 0.5238413812400557,\n        \"min\": -0.05989935561237262,\n        \"max\": 1.0,\n        \"num_unique_values\": 7,\n        \"samples\": [\n          0.9999999999999928,\n          0.015361319684627926,\n          0.13081552065271418\n        ],\n        \"semantic_type\": \"\",\n        \"description\": \"\"\n      }\n    },\n    {\n      \"column\": \"age\",\n      \"properties\": {\n        \"dtype\": \"number\",\n        \"std\": 0.4895930297888441,\n        \"min\": -0.6490283905068583,\n        \"max\": 1.0,\n        \"num_unique_values\": 7,\n        \"samples\": [\n          -0.05989935561237339,\n          -0.6490283905068583,\n          -0.05420690728560892\n        ],\n        \"semantic_type\": \"\",\n        \"description\": \"\"\n      }\n    },\n    {\n      \"column\": \"stratum\",\n      \"properties\": {\n        \"dtype\": \"number\",\n        \"std\": 0.5238696374204739,\n        \"min\": -0.05730131446164623,\n        \"max\": 1.0,\n        \"num_unique_values\": 7,\n        \"samples\": [\n          0.996903227405922,\n          0.012021776596671637,\n          0.10383149934400467\n        ],\n        \"semantic_type\": \"\",\n        \"description\": \"\"\n      }\n    },\n    {\n      \"column\": \"geotype\",\n      \"properties\": {\n        \"dtype\": \"number\",\n        \"std\": 0.3850601913533733,\n        \"min\": -0.2009195137444893,\n        \"max\": 1.0,\n        \"num_unique_values\": 7,\n        \"samples\": [\n          0.13081552065271748,\n          0.0960583836896277,\n          1.0\n        ],\n        \"semantic_type\": \"\",\n        \"description\": \"\"\n      }\n    },\n    {\n      \"column\": \"person_wgt\",\n      \"properties\": {\n        \"dtype\": \"number\",\n        \"std\": 0.3973993324571505,\n        \"min\": -0.2009195137444893,\n        \"max\": 1.0,\n        \"num_unique_values\": 7,\n        \"samples\": [\n          0.011820966507446372,\n          0.05104038932766985,\n          -0.2009195137444893\n        ],\n        \"semantic_type\": \"\",\n        \"description\": \"\"\n      }\n    }\n  ]\n}"
            }
          },
          "metadata": {},
          "execution_count": 32
        }
      ]
    },
    {
      "cell_type": "markdown",
      "source": [
        "from the observation of the codecell above, it seems the columns both have 2 values, either Not 'applicable' or 'NaN'"
      ],
      "metadata": {
        "id": "wbSsEg_ypquw"
      }
    },
    {
      "cell_type": "markdown",
      "source": [
        "# Checking for unique values in edu_totfees and ecd_fees"
      ],
      "metadata": {
        "id": "A5WH6-7Rrss4"
      }
    },
    {
      "cell_type": "code",
      "source": [
        "unique_values_edu_totfees = data_21['edu_totfees'].unique()"
      ],
      "metadata": {
        "id": "pttFqriopLBD"
      },
      "execution_count": 33,
      "outputs": []
    },
    {
      "cell_type": "code",
      "source": [
        "unique_values_edu_totfees"
      ],
      "metadata": {
        "colab": {
          "base_uri": "https://localhost:8080/"
        },
        "id": "2raNCuZKqH_s",
        "outputId": "479e32ec-f328-4c1f-a227-4ebde91ee909"
      },
      "execution_count": 34,
      "outputs": [
        {
          "output_type": "execute_result",
          "data": {
            "text/plain": [
              "array(['Not applicable', nan, 'R12 001-R16 000', 'R301-R500',\n",
              "       'R501-R1 000', 'Do not know', 'R3 001-R4 000', 'R2 001-R3 000',\n",
              "       'R16 001-R20 000', 'R8 001-R12 000', 'R1 001-R2 000', 'R201-R300',\n",
              "       'More than R20 000', 'R4 001-R8 000', 'R1-R100', 'R101-R200',\n",
              "       'Unspecified'], dtype=object)"
            ]
          },
          "metadata": {},
          "execution_count": 34
        }
      ]
    },
    {
      "cell_type": "code",
      "source": [
        "unique_values_ecd_fees = data_21['ecd_fees'].unique()"
      ],
      "metadata": {
        "id": "Rjj98bJ8qoxV"
      },
      "execution_count": 35,
      "outputs": []
    },
    {
      "cell_type": "code",
      "source": [
        "unique_values_ecd_fees"
      ],
      "metadata": {
        "colab": {
          "base_uri": "https://localhost:8080/"
        },
        "id": "aU7Kae10rEPQ",
        "outputId": "923991c9-0e3e-4cec-fbd9-f8f807a37271"
      },
      "execution_count": 36,
      "outputs": [
        {
          "output_type": "execute_result",
          "data": {
            "text/plain": [
              "array(['Not applicable', 'R101-R200', nan, 'R201-R300', 'R301-R500',\n",
              "       'R1-R100', 'R1 001-R2 000', 'R501-R1 000', 'More than R2 000',\n",
              "       'Do not know'], dtype=object)"
            ]
          },
          "metadata": {},
          "execution_count": 36
        }
      ]
    },
    {
      "cell_type": "markdown",
      "source": [
        "Ohh well, should we have not done the unique values check, we would have made a wrong conclusion, there are more unique values than just Not applicable and NaN ......."
      ],
      "metadata": {
        "id": "GWuHYTwWrSVL"
      }
    },
    {
      "cell_type": "markdown",
      "source": [
        "# Handling Null values"
      ],
      "metadata": {
        "id": "qrlo7sbGr_tb"
      }
    },
    {
      "cell_type": "markdown",
      "source": [
        "## in ecd_fees"
      ],
      "metadata": {
        "id": "5EH5fb1fsLUI"
      }
    },
    {
      "cell_type": "markdown",
      "source": [
        "before we handle the nulls, lets find out how many times each unique value appers so we know if we could remove it or replace with something else."
      ],
      "metadata": {
        "id": "WQK6bTGWsT9f"
      }
    },
    {
      "cell_type": "code",
      "source": [
        "unique_values_count_ecd_fees = data_21['ecd_fees'].value_counts()\n",
        "unique_values_count_ecd_fees"
      ],
      "metadata": {
        "colab": {
          "base_uri": "https://localhost:8080/",
          "height": 397
        },
        "id": "ZB2XmF2QrMWw",
        "outputId": "331e5d3d-7e0c-4fbf-e001-4ed1a3d62132"
      },
      "execution_count": 37,
      "outputs": [
        {
          "output_type": "execute_result",
          "data": {
            "text/plain": [
              "ecd_fees\n",
              "Not applicable      33082\n",
              "R101-R200             305\n",
              "R201-R300             214\n",
              "R301-R500             178\n",
              "R1-R100               166\n",
              "R501-R1 000           135\n",
              "More than R2 000       72\n",
              "R1 001-R2 000          71\n",
              "Do not know            27\n",
              "Name: count, dtype: int64"
            ],
            "text/html": [
              "<div>\n",
              "<style scoped>\n",
              "    .dataframe tbody tr th:only-of-type {\n",
              "        vertical-align: middle;\n",
              "    }\n",
              "\n",
              "    .dataframe tbody tr th {\n",
              "        vertical-align: top;\n",
              "    }\n",
              "\n",
              "    .dataframe thead th {\n",
              "        text-align: right;\n",
              "    }\n",
              "</style>\n",
              "<table border=\"1\" class=\"dataframe\">\n",
              "  <thead>\n",
              "    <tr style=\"text-align: right;\">\n",
              "      <th></th>\n",
              "      <th>count</th>\n",
              "    </tr>\n",
              "    <tr>\n",
              "      <th>ecd_fees</th>\n",
              "      <th></th>\n",
              "    </tr>\n",
              "  </thead>\n",
              "  <tbody>\n",
              "    <tr>\n",
              "      <th>Not applicable</th>\n",
              "      <td>33082</td>\n",
              "    </tr>\n",
              "    <tr>\n",
              "      <th>R101-R200</th>\n",
              "      <td>305</td>\n",
              "    </tr>\n",
              "    <tr>\n",
              "      <th>R201-R300</th>\n",
              "      <td>214</td>\n",
              "    </tr>\n",
              "    <tr>\n",
              "      <th>R301-R500</th>\n",
              "      <td>178</td>\n",
              "    </tr>\n",
              "    <tr>\n",
              "      <th>R1-R100</th>\n",
              "      <td>166</td>\n",
              "    </tr>\n",
              "    <tr>\n",
              "      <th>R501-R1 000</th>\n",
              "      <td>135</td>\n",
              "    </tr>\n",
              "    <tr>\n",
              "      <th>More than R2 000</th>\n",
              "      <td>72</td>\n",
              "    </tr>\n",
              "    <tr>\n",
              "      <th>R1 001-R2 000</th>\n",
              "      <td>71</td>\n",
              "    </tr>\n",
              "    <tr>\n",
              "      <th>Do not know</th>\n",
              "      <td>27</td>\n",
              "    </tr>\n",
              "  </tbody>\n",
              "</table>\n",
              "</div><br><label><b>dtype:</b> int64</label>"
            ]
          },
          "metadata": {},
          "execution_count": 37
        }
      ]
    },
    {
      "cell_type": "code",
      "source": [
        "unique_value_count_edu_totfees = data_21['edu_totfees'].value_counts()\n",
        "unique_value_count_edu_totfees"
      ],
      "metadata": {
        "colab": {
          "base_uri": "https://localhost:8080/",
          "height": 617
        },
        "id": "2X6Oov2M083h",
        "outputId": "9452feff-a951-4b7a-886c-74b62cc5ab0f"
      },
      "execution_count": 38,
      "outputs": [
        {
          "output_type": "execute_result",
          "data": {
            "text/plain": [
              "edu_totfees\n",
              "Not applicable       24371\n",
              "R101-R200              353\n",
              "More than R20 000      335\n",
              "R1-R100                275\n",
              "R201-R300              254\n",
              "R301-R500              247\n",
              "R1 001-R2 000          245\n",
              "R8 001-R12 000         234\n",
              "R501-R1 000            233\n",
              "R4 001-R8 000          231\n",
              "Do not know            205\n",
              "R12 001-R16 000        165\n",
              "R16 001-R20 000        162\n",
              "R3 001-R4 000          139\n",
              "R2 001-R3 000          121\n",
              "Unspecified              1\n",
              "Name: count, dtype: int64"
            ],
            "text/html": [
              "<div>\n",
              "<style scoped>\n",
              "    .dataframe tbody tr th:only-of-type {\n",
              "        vertical-align: middle;\n",
              "    }\n",
              "\n",
              "    .dataframe tbody tr th {\n",
              "        vertical-align: top;\n",
              "    }\n",
              "\n",
              "    .dataframe thead th {\n",
              "        text-align: right;\n",
              "    }\n",
              "</style>\n",
              "<table border=\"1\" class=\"dataframe\">\n",
              "  <thead>\n",
              "    <tr style=\"text-align: right;\">\n",
              "      <th></th>\n",
              "      <th>count</th>\n",
              "    </tr>\n",
              "    <tr>\n",
              "      <th>edu_totfees</th>\n",
              "      <th></th>\n",
              "    </tr>\n",
              "  </thead>\n",
              "  <tbody>\n",
              "    <tr>\n",
              "      <th>Not applicable</th>\n",
              "      <td>24371</td>\n",
              "    </tr>\n",
              "    <tr>\n",
              "      <th>R101-R200</th>\n",
              "      <td>353</td>\n",
              "    </tr>\n",
              "    <tr>\n",
              "      <th>More than R20 000</th>\n",
              "      <td>335</td>\n",
              "    </tr>\n",
              "    <tr>\n",
              "      <th>R1-R100</th>\n",
              "      <td>275</td>\n",
              "    </tr>\n",
              "    <tr>\n",
              "      <th>R201-R300</th>\n",
              "      <td>254</td>\n",
              "    </tr>\n",
              "    <tr>\n",
              "      <th>R301-R500</th>\n",
              "      <td>247</td>\n",
              "    </tr>\n",
              "    <tr>\n",
              "      <th>R1 001-R2 000</th>\n",
              "      <td>245</td>\n",
              "    </tr>\n",
              "    <tr>\n",
              "      <th>R8 001-R12 000</th>\n",
              "      <td>234</td>\n",
              "    </tr>\n",
              "    <tr>\n",
              "      <th>R501-R1 000</th>\n",
              "      <td>233</td>\n",
              "    </tr>\n",
              "    <tr>\n",
              "      <th>R4 001-R8 000</th>\n",
              "      <td>231</td>\n",
              "    </tr>\n",
              "    <tr>\n",
              "      <th>Do not know</th>\n",
              "      <td>205</td>\n",
              "    </tr>\n",
              "    <tr>\n",
              "      <th>R12 001-R16 000</th>\n",
              "      <td>165</td>\n",
              "    </tr>\n",
              "    <tr>\n",
              "      <th>R16 001-R20 000</th>\n",
              "      <td>162</td>\n",
              "    </tr>\n",
              "    <tr>\n",
              "      <th>R3 001-R4 000</th>\n",
              "      <td>139</td>\n",
              "    </tr>\n",
              "    <tr>\n",
              "      <th>R2 001-R3 000</th>\n",
              "      <td>121</td>\n",
              "    </tr>\n",
              "    <tr>\n",
              "      <th>Unspecified</th>\n",
              "      <td>1</td>\n",
              "    </tr>\n",
              "  </tbody>\n",
              "</table>\n",
              "</div><br><label><b>dtype:</b> int64</label>"
            ]
          },
          "metadata": {},
          "execution_count": 38
        }
      ]
    },
    {
      "cell_type": "markdown",
      "source": [
        "Analysis of Value Counts:\n",
        "\n",
        "ecd_fees:\n",
        "The majority of entries are \"Not applicable\" (33,082).\n",
        "Other categories have significantly fewer entries, with \"R101-R200\" being the most common fee range after \"Not applicable\".\n",
        "The category \"Do not know\" appears 27 times, which might indicate uncertainty or missing information.\n",
        "\n",
        "edu_totfees:\n",
        "Similar to ecd_fees, \"Not applicable\" is the most frequent category (24,371).\n",
        "There's a more diverse range of fee categories, but the counts are generally lower compared to \"Not applicable\".\n",
        "\"Unspecified\" appears only once, which might be an anomaly or a placeholder for missing data.\n",
        "\"Do not know\" appears 205 times, indicating uncertainty."
      ],
      "metadata": {
        "id": "GLWvX_8y2-Cg"
      }
    },
    {
      "cell_type": "code",
      "source": [
        "# Impute missing values in 'ecd_fees' with  'Do not know'\n",
        "data_21['ecd_fees'].fillna('Do not know', inplace = True)"
      ],
      "metadata": {
        "id": "lf4OJnyAu-YF"
      },
      "execution_count": 39,
      "outputs": []
    },
    {
      "cell_type": "code",
      "source": [
        "# Impute missing values in 'edu_totfees' with 'Do not know'\n",
        "data_21['edu_totfees'].fillna('Do not know' , inplace= True)"
      ],
      "metadata": {
        "id": "CFnHhBS94FBX"
      },
      "execution_count": 40,
      "outputs": []
    },
    {
      "cell_type": "code",
      "source": [
        "# Merge 'Unspecified' with 'Do not know' in 'edu_totfees'\n",
        "data_21['edu_totfees'].replace('Unspecified', 'Do not know' , inplace = True)"
      ],
      "metadata": {
        "id": "pT74HpV-4aix"
      },
      "execution_count": 41,
      "outputs": []
    },
    {
      "cell_type": "code",
      "source": [
        "data_21.isnull().values.sum()"
      ],
      "metadata": {
        "colab": {
          "base_uri": "https://localhost:8080/"
        },
        "id": "bQaebjfH4mmG",
        "outputId": "43bf0906-47c2-458b-b30a-2b4d21fba00b"
      },
      "execution_count": 42,
      "outputs": [
        {
          "output_type": "execute_result",
          "data": {
            "text/plain": [
              "0"
            ]
          },
          "metadata": {},
          "execution_count": 42
        }
      ]
    },
    {
      "cell_type": "markdown",
      "source": [
        "### Detailed Data Exoloration"
      ],
      "metadata": {
        "id": "IKgvwajiEw5s"
      }
    },
    {
      "cell_type": "code",
      "source": [
        "\n",
        "data_21.dtypes"
      ],
      "metadata": {
        "colab": {
          "base_uri": "https://localhost:8080/",
          "height": 458
        },
        "id": "HEiQbFo7AySn",
        "outputId": "5b0eb73e-a2b4-4370-e9de-dcf2e08ef503"
      },
      "execution_count": 43,
      "outputs": [
        {
          "output_type": "execute_result",
          "data": {
            "text/plain": [
              "uqnr                int64\n",
              "personnr            int64\n",
              "psu                 int64\n",
              "prov               object\n",
              "four_by_four       object\n",
              "                   ...   \n",
              "employ_status2     object\n",
              "metro              object\n",
              "metro_code         object\n",
              "rotation           object\n",
              "person_wgt        float64\n",
              "Length: 90, dtype: object"
            ],
            "text/html": [
              "<div>\n",
              "<style scoped>\n",
              "    .dataframe tbody tr th:only-of-type {\n",
              "        vertical-align: middle;\n",
              "    }\n",
              "\n",
              "    .dataframe tbody tr th {\n",
              "        vertical-align: top;\n",
              "    }\n",
              "\n",
              "    .dataframe thead th {\n",
              "        text-align: right;\n",
              "    }\n",
              "</style>\n",
              "<table border=\"1\" class=\"dataframe\">\n",
              "  <thead>\n",
              "    <tr style=\"text-align: right;\">\n",
              "      <th></th>\n",
              "      <th>0</th>\n",
              "    </tr>\n",
              "  </thead>\n",
              "  <tbody>\n",
              "    <tr>\n",
              "      <th>uqnr</th>\n",
              "      <td>int64</td>\n",
              "    </tr>\n",
              "    <tr>\n",
              "      <th>personnr</th>\n",
              "      <td>int64</td>\n",
              "    </tr>\n",
              "    <tr>\n",
              "      <th>psu</th>\n",
              "      <td>int64</td>\n",
              "    </tr>\n",
              "    <tr>\n",
              "      <th>prov</th>\n",
              "      <td>object</td>\n",
              "    </tr>\n",
              "    <tr>\n",
              "      <th>four_by_four</th>\n",
              "      <td>object</td>\n",
              "    </tr>\n",
              "    <tr>\n",
              "      <th>...</th>\n",
              "      <td>...</td>\n",
              "    </tr>\n",
              "    <tr>\n",
              "      <th>employ_status2</th>\n",
              "      <td>object</td>\n",
              "    </tr>\n",
              "    <tr>\n",
              "      <th>metro</th>\n",
              "      <td>object</td>\n",
              "    </tr>\n",
              "    <tr>\n",
              "      <th>metro_code</th>\n",
              "      <td>object</td>\n",
              "    </tr>\n",
              "    <tr>\n",
              "      <th>rotation</th>\n",
              "      <td>object</td>\n",
              "    </tr>\n",
              "    <tr>\n",
              "      <th>person_wgt</th>\n",
              "      <td>float64</td>\n",
              "    </tr>\n",
              "  </tbody>\n",
              "</table>\n",
              "<p>90 rows × 1 columns</p>\n",
              "</div><br><label><b>dtype:</b> object</label>"
            ]
          },
          "metadata": {},
          "execution_count": 43
        }
      ]
    },
    {
      "cell_type": "code",
      "source": [
        "# checking if the data has some duplicates\n",
        "data_21.duplicated().sum()"
      ],
      "metadata": {
        "colab": {
          "base_uri": "https://localhost:8080/"
        },
        "id": "ckEU90WKFgqm",
        "outputId": "d6ec0fd0-e847-407f-e186-94e656539667"
      },
      "execution_count": 44,
      "outputs": [
        {
          "output_type": "execute_result",
          "data": {
            "text/plain": [
              "0"
            ]
          },
          "metadata": {},
          "execution_count": 44
        }
      ]
    },
    {
      "cell_type": "code",
      "source": [
        "data_21['lab_salary'].value_counts()"
      ],
      "metadata": {
        "colab": {
          "base_uri": "https://localhost:8080/",
          "height": 489
        },
        "id": "zefNdOaRG7SJ",
        "outputId": "8b9f288e-5665-4d0a-e31f-a05dad0cf619"
      },
      "execution_count": 45,
      "outputs": [
        {
          "output_type": "execute_result",
          "data": {
            "text/plain": [
              "lab_salary\n",
              "Not applicable    27347\n",
              "22139               623\n",
              "5300                434\n",
              "4017                428\n",
              "9482                398\n",
              "                  ...  \n",
              "4019                  1\n",
              "3778                  1\n",
              "8250                  1\n",
              "388000                1\n",
              "8600                  1\n",
              "Name: count, Length: 251, dtype: int64"
            ],
            "text/html": [
              "<div>\n",
              "<style scoped>\n",
              "    .dataframe tbody tr th:only-of-type {\n",
              "        vertical-align: middle;\n",
              "    }\n",
              "\n",
              "    .dataframe tbody tr th {\n",
              "        vertical-align: top;\n",
              "    }\n",
              "\n",
              "    .dataframe thead th {\n",
              "        text-align: right;\n",
              "    }\n",
              "</style>\n",
              "<table border=\"1\" class=\"dataframe\">\n",
              "  <thead>\n",
              "    <tr style=\"text-align: right;\">\n",
              "      <th></th>\n",
              "      <th>count</th>\n",
              "    </tr>\n",
              "    <tr>\n",
              "      <th>lab_salary</th>\n",
              "      <th></th>\n",
              "    </tr>\n",
              "  </thead>\n",
              "  <tbody>\n",
              "    <tr>\n",
              "      <th>Not applicable</th>\n",
              "      <td>27347</td>\n",
              "    </tr>\n",
              "    <tr>\n",
              "      <th>22139</th>\n",
              "      <td>623</td>\n",
              "    </tr>\n",
              "    <tr>\n",
              "      <th>5300</th>\n",
              "      <td>434</td>\n",
              "    </tr>\n",
              "    <tr>\n",
              "      <th>4017</th>\n",
              "      <td>428</td>\n",
              "    </tr>\n",
              "    <tr>\n",
              "      <th>9482</th>\n",
              "      <td>398</td>\n",
              "    </tr>\n",
              "    <tr>\n",
              "      <th>...</th>\n",
              "      <td>...</td>\n",
              "    </tr>\n",
              "    <tr>\n",
              "      <th>4019</th>\n",
              "      <td>1</td>\n",
              "    </tr>\n",
              "    <tr>\n",
              "      <th>3778</th>\n",
              "      <td>1</td>\n",
              "    </tr>\n",
              "    <tr>\n",
              "      <th>8250</th>\n",
              "      <td>1</td>\n",
              "    </tr>\n",
              "    <tr>\n",
              "      <th>388000</th>\n",
              "      <td>1</td>\n",
              "    </tr>\n",
              "    <tr>\n",
              "      <th>8600</th>\n",
              "      <td>1</td>\n",
              "    </tr>\n",
              "  </tbody>\n",
              "</table>\n",
              "<p>251 rows × 1 columns</p>\n",
              "</div><br><label><b>dtype:</b> int64</label>"
            ]
          },
          "metadata": {},
          "execution_count": 45
        }
      ]
    },
    {
      "cell_type": "code",
      "source": [
        "data_21['uqnr'].duplicated().sum()"
      ],
      "metadata": {
        "colab": {
          "base_uri": "https://localhost:8080/"
        },
        "id": "ooBpfmK-dRV6",
        "outputId": "b42f6bd0-2378-4135-982a-f1239627930e"
      },
      "execution_count": 46,
      "outputs": [
        {
          "output_type": "execute_result",
          "data": {
            "text/plain": [
              "25636"
            ]
          },
          "metadata": {},
          "execution_count": 46
        }
      ]
    },
    {
      "cell_type": "code",
      "source": [],
      "metadata": {
        "id": "K9QqEdhsdiIs"
      },
      "execution_count": 46,
      "outputs": []
    }
  ]
}